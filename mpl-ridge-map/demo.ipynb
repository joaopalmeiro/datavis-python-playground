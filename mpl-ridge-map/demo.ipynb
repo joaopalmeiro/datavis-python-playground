{
 "cells": [
  {
   "cell_type": "markdown",
   "id": "8019e92d",
   "metadata": {},
   "source": [
    "# Config"
   ]
  },
  {
   "cell_type": "code",
   "execution_count": null,
   "id": "1267378a",
   "metadata": {},
   "outputs": [],
   "source": [
    "%load_ext autoreload\n",
    "%autoreload 2"
   ]
  },
  {
   "cell_type": "code",
   "execution_count": null,
   "id": "c5a75365",
   "metadata": {},
   "outputs": [],
   "source": [
    "%load_ext dotenv\n",
    "%dotenv"
   ]
  },
  {
   "cell_type": "code",
   "execution_count": null,
   "id": "559b4008",
   "metadata": {
    "scrolled": true
   },
   "outputs": [],
   "source": [
    "%config InlineBackend.figure_format = \"retina\""
   ]
  },
  {
   "cell_type": "code",
   "execution_count": null,
   "id": "genetic-pregnancy",
   "metadata": {
    "scrolled": true
   },
   "outputs": [],
   "source": [
    "import os\n",
    "\n",
    "import geocoder\n",
    "from ridge_map import RidgeMap\n",
    "\n",
    "from utils import generate_bboxfinder_url, get_ridge_map_bbox"
   ]
  },
  {
   "cell_type": "markdown",
   "id": "88f7efca",
   "metadata": {},
   "source": [
    "# GeoNames"
   ]
  },
  {
   "cell_type": "code",
   "execution_count": null,
   "id": "ca626ebe",
   "metadata": {},
   "outputs": [],
   "source": [
    "g = geocoder.geonames(\"Redondo\", key=os.getenv(\"GEONAMES_USERNAME\"))"
   ]
  },
  {
   "cell_type": "code",
   "execution_count": null,
   "id": "65f6ad5b",
   "metadata": {},
   "outputs": [],
   "source": [
    "print(g.address, g.geonames_id, g.country, sep=\"\\n\")"
   ]
  },
  {
   "cell_type": "code",
   "execution_count": null,
   "id": "97dc0fde",
   "metadata": {},
   "outputs": [],
   "source": [
    "g_details = geocoder.geonames(\n",
    "    g.geonames_id, method=\"details\", key=os.getenv(\"GEONAMES_USERNAME\")\n",
    ")"
   ]
  },
  {
   "cell_type": "code",
   "execution_count": null,
   "id": "286c95b7",
   "metadata": {},
   "outputs": [],
   "source": [
    "# ((lat, long), (lat, long))\n",
    "# (top_right, bottom_left)\n",
    "print(g_details.address, g_details.bbox, g_details.country, sep=\"\\n\")"
   ]
  },
  {
   "cell_type": "code",
   "execution_count": null,
   "id": "aa52ee77",
   "metadata": {},
   "outputs": [],
   "source": [
    "print(generate_bboxfinder_url(g_details.bbox))"
   ]
  },
  {
   "cell_type": "markdown",
   "id": "668051bc",
   "metadata": {},
   "source": [
    "# Ridge Map"
   ]
  },
  {
   "cell_type": "code",
   "execution_count": null,
   "id": "103a3e4e",
   "metadata": {},
   "outputs": [],
   "source": [
    "# (lat, long) -> (long, lat)\n",
    "bbox = get_ridge_map_bbox(g_details.bbox)\n",
    "bbox"
   ]
  },
  {
   "cell_type": "code",
   "execution_count": null,
   "id": "bcf8406c",
   "metadata": {},
   "outputs": [],
   "source": [
    "g_details.bbox"
   ]
  },
  {
   "cell_type": "code",
   "execution_count": null,
   "id": "improved-german",
   "metadata": {
    "scrolled": true
   },
   "outputs": [],
   "source": [
    "# (long, lat, long, lat)\n",
    "# (bottom_left, top_right)\n",
    "rm = RidgeMap(bbox)"
   ]
  },
  {
   "cell_type": "code",
   "execution_count": null,
   "id": "141b4e50",
   "metadata": {
    "scrolled": true
   },
   "outputs": [],
   "source": [
    "rm.plot_map(label=\"\")"
   ]
  },
  {
   "cell_type": "markdown",
   "id": "f4487b7e",
   "metadata": {},
   "source": [
    "---"
   ]
  }
 ],
 "metadata": {
  "kernelspec": {
   "display_name": "Python 3",
   "language": "python",
   "name": "python3"
  },
  "language_info": {
   "codemirror_mode": {
    "name": "ipython",
    "version": 3
   },
   "file_extension": ".py",
   "mimetype": "text/x-python",
   "name": "python",
   "nbconvert_exporter": "python",
   "pygments_lexer": "ipython3",
   "version": "3.8.7"
  }
 },
 "nbformat": 4,
 "nbformat_minor": 5
}
