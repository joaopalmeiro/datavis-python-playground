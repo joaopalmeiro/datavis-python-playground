{
 "cells": [
  {
   "cell_type": "markdown",
   "metadata": {},
   "source": [
    "# Demo: Use [JavaScript cells](https://ipython.readthedocs.io/en/stable/interactive/magics.html#cellmagic-javascript) to save Altair charts via [Vega-Embed](https://github.com/vega/vega-embed)\n",
    "\n",
    "Run all cells sequentially."
   ]
  },
  {
   "cell_type": "code",
   "execution_count": null,
   "metadata": {},
   "outputs": [],
   "source": [
    "import altair as alt"
   ]
  },
  {
   "cell_type": "code",
   "execution_count": null,
   "metadata": {},
   "outputs": [],
   "source": [
    "alt.renderers.enable(\n",
    "    \"default\", embed_options={\"scaleFactor\": 5,},\n",
    ");"
   ]
  },
  {
   "cell_type": "code",
   "execution_count": null,
   "metadata": {},
   "outputs": [],
   "source": [
    "data = alt.pd.DataFrame(\n",
    "    {\n",
    "        \"a\": [\"A\", \"B\", \"C\", \"D\", \"E\", \"F\", \"G\", \"H\", \"I\"],\n",
    "        \"b\": [28, 55, 43, 91, 81, 53, 19, 87, 52],\n",
    "    }\n",
    ")"
   ]
  },
  {
   "cell_type": "code",
   "execution_count": null,
   "metadata": {},
   "outputs": [],
   "source": [
    "alt.Chart(data).mark_bar().encode(x=\"a\", y=\"b\")"
   ]
  },
  {
   "cell_type": "code",
   "execution_count": null,
   "metadata": {},
   "outputs": [],
   "source": [
    "%%javascript\n",
    "\n",
    "// More info here: https://github.com/vega/vega-embed/blob/master/src/embed.ts#L406\n",
    "\n",
    "const fileType = \"png\"; // \"png\" or \"svg\"\n",
    "let vegaActions = document.getElementsByClassName(\"vega-actions\");\n",
    "\n",
    "[...vegaActions].forEach((element) =>\n",
    "  [...element.childNodes]\n",
    "    .filter((child) => child.download.endsWith(`.${fileType}`))\n",
    "    .map((download) => download.dispatchEvent(new MouseEvent(\"mousedown\")))\n",
    ");"
   ]
  },
  {
   "cell_type": "code",
   "execution_count": null,
   "metadata": {},
   "outputs": [],
   "source": [
    "%%javascript\n",
    "\n",
    "const fileType = \"png\"; // \"png\" or \"svg\"\n",
    "let vegaActions = document.getElementsByClassName(\"vega-actions\");\n",
    "\n",
    "[...vegaActions].forEach((element) =>\n",
    "  [...element.childNodes]\n",
    "    .filter((child) => child.download.endsWith(`.${fileType}`))\n",
    "    .map((download) => download.click())\n",
    ");"
   ]
  },
  {
   "cell_type": "markdown",
   "metadata": {},
   "source": [
    "---"
   ]
  }
 ],
 "metadata": {
  "kernelspec": {
   "display_name": "Python 3",
   "language": "python",
   "name": "python3"
  },
  "language_info": {
   "codemirror_mode": {
    "name": "ipython",
    "version": 3
   },
   "file_extension": ".py",
   "mimetype": "text/x-python",
   "name": "python",
   "nbconvert_exporter": "python",
   "pygments_lexer": "ipython3",
   "version": "3.6.10"
  }
 },
 "nbformat": 4,
 "nbformat_minor": 4
}
