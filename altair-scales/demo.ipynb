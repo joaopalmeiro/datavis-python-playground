{
 "cells": [
  {
   "cell_type": "markdown",
   "id": "cd8b112e",
   "metadata": {},
   "source": [
    "# Config"
   ]
  },
  {
   "cell_type": "code",
   "execution_count": null,
   "id": "6b5f4f06",
   "metadata": {},
   "outputs": [],
   "source": [
    "import altair as alt\n",
    "from vega_datasets import data"
   ]
  },
  {
   "cell_type": "markdown",
   "id": "083775c6",
   "metadata": {},
   "source": [
    "# Data"
   ]
  },
  {
   "cell_type": "code",
   "execution_count": null,
   "id": "26310686",
   "metadata": {},
   "outputs": [],
   "source": [
    "source = data.movies.url"
   ]
  },
  {
   "cell_type": "markdown",
   "id": "ffe15a59",
   "metadata": {},
   "source": [
    "# Charts"
   ]
  },
  {
   "cell_type": "code",
   "execution_count": null,
   "id": "94b1cc64",
   "metadata": {},
   "outputs": [],
   "source": [
    "def histogram(data, xvar, yscale=\"linear\", bin_width=1):\n",
    "    base = alt.Chart(data)\n",
    "\n",
    "    hist = base.mark_bar(tooltip=True).encode(\n",
    "        x=alt.X(f\"{xvar}:Q\", bin=alt.Bin(step=bin_width)),\n",
    "        y=alt.Y(\"count()\", scale=alt.Scale(type=yscale, constant=1)),\n",
    "    )\n",
    "\n",
    "    return hist"
   ]
  },
  {
   "cell_type": "code",
   "execution_count": null,
   "id": "2e60b336",
   "metadata": {},
   "outputs": [],
   "source": [
    "histogram(source, \"IMDB_Rating\")"
   ]
  },
  {
   "cell_type": "markdown",
   "id": "9b84f46a",
   "metadata": {},
   "source": [
    "Similar charts (in terms of shape), different Y-axis (in terms of first value, ticks, grid lines, and labels)."
   ]
  },
  {
   "cell_type": "code",
   "execution_count": null,
   "id": "c78711b9",
   "metadata": {},
   "outputs": [],
   "source": [
    "alt.hconcat(\n",
    "    histogram(source, \"IMDB_Rating\", yscale=\"log\"),\n",
    "    histogram(source, \"IMDB_Rating\", yscale=\"symlog\"),\n",
    ")"
   ]
  },
  {
   "cell_type": "markdown",
   "id": "02b900e4",
   "metadata": {},
   "source": [
    "---"
   ]
  }
 ],
 "metadata": {
  "kernelspec": {
   "display_name": "Python 3",
   "language": "python",
   "name": "python3"
  },
  "language_info": {
   "codemirror_mode": {
    "name": "ipython",
    "version": 3
   },
   "file_extension": ".py",
   "mimetype": "text/x-python",
   "name": "python",
   "nbconvert_exporter": "python",
   "pygments_lexer": "ipython3",
   "version": "3.8.7"
  }
 },
 "nbformat": 4,
 "nbformat_minor": 5
}
