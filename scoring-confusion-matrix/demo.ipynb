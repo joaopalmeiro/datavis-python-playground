{
 "cells": [
  {
   "cell_type": "markdown",
   "metadata": {},
   "source": [
    "# Setup"
   ]
  },
  {
   "cell_type": "code",
   "execution_count": 1,
   "metadata": {},
   "outputs": [],
   "source": [
    "%load_ext autoreload\n",
    "%autoreload 2"
   ]
  },
  {
   "cell_type": "code",
   "execution_count": 2,
   "metadata": {},
   "outputs": [],
   "source": [
    "import pandas as pd\n",
    "from sklearn.ensemble import RandomForestClassifier\n",
    "from sklearn.model_selection import train_test_split\n",
    "\n",
    "from chart import scoring_confusion_matrix\n",
    "from utils import prepare_titanic_data"
   ]
  },
  {
   "cell_type": "code",
   "execution_count": 3,
   "metadata": {},
   "outputs": [],
   "source": [
    "SEED = 0"
   ]
  },
  {
   "cell_type": "markdown",
   "metadata": {},
   "source": [
    "# Data"
   ]
  },
  {
   "cell_type": "code",
   "execution_count": 4,
   "metadata": {},
   "outputs": [
    {
     "data": {
      "text/html": [
       "<div>\n",
       "<style scoped>\n",
       "    .dataframe tbody tr th:only-of-type {\n",
       "        vertical-align: middle;\n",
       "    }\n",
       "\n",
       "    .dataframe tbody tr th {\n",
       "        vertical-align: top;\n",
       "    }\n",
       "\n",
       "    .dataframe thead th {\n",
       "        text-align: right;\n",
       "    }\n",
       "</style>\n",
       "<table border=\"1\" class=\"dataframe\">\n",
       "  <thead>\n",
       "    <tr style=\"text-align: right;\">\n",
       "      <th></th>\n",
       "      <th>PassengerId</th>\n",
       "      <th>Survived</th>\n",
       "      <th>Pclass</th>\n",
       "      <th>Name</th>\n",
       "      <th>Sex</th>\n",
       "      <th>Age</th>\n",
       "      <th>SibSp</th>\n",
       "      <th>Parch</th>\n",
       "      <th>Ticket</th>\n",
       "      <th>Fare</th>\n",
       "      <th>Cabin</th>\n",
       "      <th>Embarked</th>\n",
       "    </tr>\n",
       "  </thead>\n",
       "  <tbody>\n",
       "    <tr>\n",
       "      <th>0</th>\n",
       "      <td>1</td>\n",
       "      <td>0</td>\n",
       "      <td>3</td>\n",
       "      <td>Braund, Mr. Owen Harris</td>\n",
       "      <td>male</td>\n",
       "      <td>22.0</td>\n",
       "      <td>1</td>\n",
       "      <td>0</td>\n",
       "      <td>A/5 21171</td>\n",
       "      <td>7.2500</td>\n",
       "      <td>NaN</td>\n",
       "      <td>S</td>\n",
       "    </tr>\n",
       "    <tr>\n",
       "      <th>1</th>\n",
       "      <td>2</td>\n",
       "      <td>1</td>\n",
       "      <td>1</td>\n",
       "      <td>Cumings, Mrs. John Bradley (Florence Briggs Th...</td>\n",
       "      <td>female</td>\n",
       "      <td>38.0</td>\n",
       "      <td>1</td>\n",
       "      <td>0</td>\n",
       "      <td>PC 17599</td>\n",
       "      <td>71.2833</td>\n",
       "      <td>C85</td>\n",
       "      <td>C</td>\n",
       "    </tr>\n",
       "    <tr>\n",
       "      <th>2</th>\n",
       "      <td>3</td>\n",
       "      <td>1</td>\n",
       "      <td>3</td>\n",
       "      <td>Heikkinen, Miss. Laina</td>\n",
       "      <td>female</td>\n",
       "      <td>26.0</td>\n",
       "      <td>0</td>\n",
       "      <td>0</td>\n",
       "      <td>STON/O2. 3101282</td>\n",
       "      <td>7.9250</td>\n",
       "      <td>NaN</td>\n",
       "      <td>S</td>\n",
       "    </tr>\n",
       "    <tr>\n",
       "      <th>3</th>\n",
       "      <td>4</td>\n",
       "      <td>1</td>\n",
       "      <td>1</td>\n",
       "      <td>Futrelle, Mrs. Jacques Heath (Lily May Peel)</td>\n",
       "      <td>female</td>\n",
       "      <td>35.0</td>\n",
       "      <td>1</td>\n",
       "      <td>0</td>\n",
       "      <td>113803</td>\n",
       "      <td>53.1000</td>\n",
       "      <td>C123</td>\n",
       "      <td>S</td>\n",
       "    </tr>\n",
       "    <tr>\n",
       "      <th>4</th>\n",
       "      <td>5</td>\n",
       "      <td>0</td>\n",
       "      <td>3</td>\n",
       "      <td>Allen, Mr. William Henry</td>\n",
       "      <td>male</td>\n",
       "      <td>35.0</td>\n",
       "      <td>0</td>\n",
       "      <td>0</td>\n",
       "      <td>373450</td>\n",
       "      <td>8.0500</td>\n",
       "      <td>NaN</td>\n",
       "      <td>S</td>\n",
       "    </tr>\n",
       "  </tbody>\n",
       "</table>\n",
       "</div>"
      ],
      "text/plain": [
       "   PassengerId  Survived  Pclass  \\\n",
       "0            1         0       3   \n",
       "1            2         1       1   \n",
       "2            3         1       3   \n",
       "3            4         1       1   \n",
       "4            5         0       3   \n",
       "\n",
       "                                                Name     Sex   Age  SibSp  \\\n",
       "0                            Braund, Mr. Owen Harris    male  22.0      1   \n",
       "1  Cumings, Mrs. John Bradley (Florence Briggs Th...  female  38.0      1   \n",
       "2                             Heikkinen, Miss. Laina  female  26.0      0   \n",
       "3       Futrelle, Mrs. Jacques Heath (Lily May Peel)  female  35.0      1   \n",
       "4                           Allen, Mr. William Henry    male  35.0      0   \n",
       "\n",
       "   Parch            Ticket     Fare Cabin Embarked  \n",
       "0      0         A/5 21171   7.2500   NaN        S  \n",
       "1      0          PC 17599  71.2833   C85        C  \n",
       "2      0  STON/O2. 3101282   7.9250   NaN        S  \n",
       "3      0            113803  53.1000  C123        S  \n",
       "4      0            373450   8.0500   NaN        S  "
      ]
     },
     "execution_count": 4,
     "metadata": {},
     "output_type": "execute_result"
    }
   ],
   "source": [
    "df = pd.read_csv(\"data/titanic_train.csv\")\n",
    "df.head()"
   ]
  },
  {
   "cell_type": "code",
   "execution_count": 5,
   "metadata": {},
   "outputs": [
    {
     "data": {
      "text/html": [
       "<div>\n",
       "<style scoped>\n",
       "    .dataframe tbody tr th:only-of-type {\n",
       "        vertical-align: middle;\n",
       "    }\n",
       "\n",
       "    .dataframe tbody tr th {\n",
       "        vertical-align: top;\n",
       "    }\n",
       "\n",
       "    .dataframe thead th {\n",
       "        text-align: right;\n",
       "    }\n",
       "</style>\n",
       "<table border=\"1\" class=\"dataframe\">\n",
       "  <thead>\n",
       "    <tr style=\"text-align: right;\">\n",
       "      <th></th>\n",
       "      <th>Survived</th>\n",
       "      <th>Pclass</th>\n",
       "      <th>is_female</th>\n",
       "      <th>sibsp_parch</th>\n",
       "      <th>Fare</th>\n",
       "      <th>age_imputed</th>\n",
       "    </tr>\n",
       "  </thead>\n",
       "  <tbody>\n",
       "    <tr>\n",
       "      <th>0</th>\n",
       "      <td>0</td>\n",
       "      <td>3</td>\n",
       "      <td>0</td>\n",
       "      <td>1</td>\n",
       "      <td>7.2500</td>\n",
       "      <td>22.0</td>\n",
       "    </tr>\n",
       "    <tr>\n",
       "      <th>1</th>\n",
       "      <td>1</td>\n",
       "      <td>1</td>\n",
       "      <td>1</td>\n",
       "      <td>1</td>\n",
       "      <td>71.2833</td>\n",
       "      <td>38.0</td>\n",
       "    </tr>\n",
       "    <tr>\n",
       "      <th>2</th>\n",
       "      <td>1</td>\n",
       "      <td>3</td>\n",
       "      <td>1</td>\n",
       "      <td>0</td>\n",
       "      <td>7.9250</td>\n",
       "      <td>26.0</td>\n",
       "    </tr>\n",
       "    <tr>\n",
       "      <th>3</th>\n",
       "      <td>1</td>\n",
       "      <td>1</td>\n",
       "      <td>1</td>\n",
       "      <td>1</td>\n",
       "      <td>53.1000</td>\n",
       "      <td>35.0</td>\n",
       "    </tr>\n",
       "    <tr>\n",
       "      <th>4</th>\n",
       "      <td>0</td>\n",
       "      <td>3</td>\n",
       "      <td>0</td>\n",
       "      <td>0</td>\n",
       "      <td>8.0500</td>\n",
       "      <td>35.0</td>\n",
       "    </tr>\n",
       "  </tbody>\n",
       "</table>\n",
       "</div>"
      ],
      "text/plain": [
       "   Survived  Pclass  is_female  sibsp_parch     Fare  age_imputed\n",
       "0         0       3          0            1   7.2500         22.0\n",
       "1         1       1          1            1  71.2833         38.0\n",
       "2         1       3          1            0   7.9250         26.0\n",
       "3         1       1          1            1  53.1000         35.0\n",
       "4         0       3          0            0   8.0500         35.0"
      ]
     },
     "execution_count": 5,
     "metadata": {},
     "output_type": "execute_result"
    }
   ],
   "source": [
    "df_ml = prepare_titanic_data(df)\n",
    "df_ml.head()"
   ]
  },
  {
   "cell_type": "code",
   "execution_count": 6,
   "metadata": {},
   "outputs": [],
   "source": [
    "X = df_ml.drop(\"Survived\", axis=1)\n",
    "y = df_ml[\"Survived\"]\n",
    "\n",
    "X_train, X_test, y_train, y_test = train_test_split(X, y, random_state=SEED)"
   ]
  },
  {
   "cell_type": "markdown",
   "metadata": {},
   "source": [
    "# Model"
   ]
  },
  {
   "cell_type": "code",
   "execution_count": 7,
   "metadata": {},
   "outputs": [],
   "source": [
    "clf = RandomForestClassifier(random_state=SEED)\n",
    "clf.fit(X_train, y_train)\n",
    "\n",
    "y_pred_proba = clf.predict_proba(X_test)"
   ]
  },
  {
   "cell_type": "code",
   "execution_count": 8,
   "metadata": {},
   "outputs": [
    {
     "data": {
      "text/html": [
       "<div>\n",
       "<style scoped>\n",
       "    .dataframe tbody tr th:only-of-type {\n",
       "        vertical-align: middle;\n",
       "    }\n",
       "\n",
       "    .dataframe tbody tr th {\n",
       "        vertical-align: top;\n",
       "    }\n",
       "\n",
       "    .dataframe thead th {\n",
       "        text-align: right;\n",
       "    }\n",
       "</style>\n",
       "<table border=\"1\" class=\"dataframe\">\n",
       "  <thead>\n",
       "    <tr style=\"text-align: right;\">\n",
       "      <th></th>\n",
       "      <th>y_true</th>\n",
       "      <th>y_score</th>\n",
       "    </tr>\n",
       "  </thead>\n",
       "  <tbody>\n",
       "    <tr>\n",
       "      <th>495</th>\n",
       "      <td>0</td>\n",
       "      <td>0.030</td>\n",
       "    </tr>\n",
       "    <tr>\n",
       "      <th>648</th>\n",
       "      <td>0</td>\n",
       "      <td>0.001</td>\n",
       "    </tr>\n",
       "    <tr>\n",
       "      <th>278</th>\n",
       "      <td>0</td>\n",
       "      <td>0.030</td>\n",
       "    </tr>\n",
       "    <tr>\n",
       "      <th>31</th>\n",
       "      <td>1</td>\n",
       "      <td>0.920</td>\n",
       "    </tr>\n",
       "    <tr>\n",
       "      <th>255</th>\n",
       "      <td>1</td>\n",
       "      <td>0.490</td>\n",
       "    </tr>\n",
       "  </tbody>\n",
       "</table>\n",
       "</div>"
      ],
      "text/plain": [
       "     y_true  y_score\n",
       "495       0    0.030\n",
       "648       0    0.001\n",
       "278       0    0.030\n",
       "31        1    0.920\n",
       "255       1    0.490"
      ]
     },
     "execution_count": 8,
     "metadata": {},
     "output_type": "execute_result"
    }
   ],
   "source": [
    "df_scores = pd.DataFrame({\"y_true\": y_test, \"y_score\": y_pred_proba[:, 1]})\n",
    "df_scores.head()"
   ]
  },
  {
   "cell_type": "markdown",
   "metadata": {},
   "source": [
    "# Scoring Confusion Matrix"
   ]
  },
  {
   "cell_type": "code",
   "execution_count": 9,
   "metadata": {},
   "outputs": [
    {
     "data": {
      "text/html": [
       "\n",
       "<div id=\"altair-viz-2636eee9517846dfb79419892ea024d6\"></div>\n",
       "<script type=\"text/javascript\">\n",
       "  (function(spec, embedOpt){\n",
       "    let outputDiv = document.currentScript.previousElementSibling;\n",
       "    if (outputDiv.id !== \"altair-viz-2636eee9517846dfb79419892ea024d6\") {\n",
       "      outputDiv = document.getElementById(\"altair-viz-2636eee9517846dfb79419892ea024d6\");\n",
       "    }\n",
       "    const paths = {\n",
       "      \"vega\": \"https://cdn.jsdelivr.net/npm//vega@5?noext\",\n",
       "      \"vega-lib\": \"https://cdn.jsdelivr.net/npm//vega-lib?noext\",\n",
       "      \"vega-lite\": \"https://cdn.jsdelivr.net/npm//vega-lite@4.8.1?noext\",\n",
       "      \"vega-embed\": \"https://cdn.jsdelivr.net/npm//vega-embed@6?noext\",\n",
       "    };\n",
       "\n",
       "    function loadScript(lib) {\n",
       "      return new Promise(function(resolve, reject) {\n",
       "        var s = document.createElement('script');\n",
       "        s.src = paths[lib];\n",
       "        s.async = true;\n",
       "        s.onload = () => resolve(paths[lib]);\n",
       "        s.onerror = () => reject(`Error loading script: ${paths[lib]}`);\n",
       "        document.getElementsByTagName(\"head\")[0].appendChild(s);\n",
       "      });\n",
       "    }\n",
       "\n",
       "    function showError(err) {\n",
       "      outputDiv.innerHTML = `<div class=\"error\" style=\"color:red;\">${err}</div>`;\n",
       "      throw err;\n",
       "    }\n",
       "\n",
       "    function displayChart(vegaEmbed) {\n",
       "      vegaEmbed(outputDiv, spec, embedOpt)\n",
       "        .catch(err => showError(`Javascript Error: ${err.message}<br>This usually means there's a typo in your chart specification. See the javascript console for the full traceback.`));\n",
       "    }\n",
       "\n",
       "    if(typeof define === \"function\" && define.amd) {\n",
       "      requirejs.config({paths});\n",
       "      require([\"vega-embed\"], displayChart, err => showError(`Error loading script: ${err.message}`));\n",
       "    } else if (typeof vegaEmbed === \"function\") {\n",
       "      displayChart(vegaEmbed);\n",
       "    } else {\n",
       "      loadScript(\"vega\")\n",
       "        .then(() => loadScript(\"vega-lite\"))\n",
       "        .then(() => loadScript(\"vega-embed\"))\n",
       "        .catch(showError)\n",
       "        .then(() => displayChart(vegaEmbed));\n",
       "    }\n",
       "  })({\"config\": {\"view\": {\"continuousWidth\": 400, \"continuousHeight\": 300}}, \"data\": {\"name\": \"data-5f827d36362475a33b7472a999d34a07\"}, \"mark\": {\"type\": \"bar\", \"tooltip\": true}, \"encoding\": {\"facet\": {\"type\": \"ordinal\", \"columns\": 2, \"field\": \"confusion_category\", \"sort\": [\"TP (60)\", \"FP (14)\", \"FN (24)\", \"TN (125)\"], \"title\": null}, \"x\": {\"type\": \"quantitative\", \"axis\": {\"format\": \"~\", \"title\": \"Score\"}, \"bin\": \"binned\", \"field\": \"binned_y_score\"}, \"x2\": {\"field\": \"binned_y_score_end\"}, \"y\": {\"type\": \"quantitative\", \"axis\": {\"title\": \"Count\"}, \"field\": \"y_count\"}}, \"height\": 200, \"title\": {\"text\": \"Scoring confusion matrix\", \"subtitle\": \"Threshold: 0.5\"}, \"transform\": [{\"bin\": {\"step\": 0.1}, \"field\": \"y_score\", \"as\": \"binned_y_score\"}, {\"joinaggregate\": [{\"op\": \"count\", \"as\": \"y_count\"}], \"groupby\": [\"binned_y_score\", \"binned_y_score_end\", \"confusion_category\"]}], \"usermeta\": {\"embedOptions\": {\"scaleFactor\": 5, \"downloadFileName\": \"scoring_confusion_matrix\"}}, \"width\": 200, \"$schema\": \"https://vega.github.io/schema/vega-lite/v4.8.1.json\", \"datasets\": {\"data-5f827d36362475a33b7472a999d34a07\": [{\"y_true\": 1, \"y_score\": 0.98, \"confusion_category\": \"TP (60)\"}, {\"y_true\": 1, \"y_score\": 0.7484047619047619, \"confusion_category\": \"TP (60)\"}, {\"y_true\": 1, \"y_score\": 0.78, \"confusion_category\": \"TP (60)\"}, {\"y_true\": 1, \"y_score\": 0.92, \"confusion_category\": \"TP (60)\"}, {\"y_true\": 1, \"y_score\": 0.9833333333333333, \"confusion_category\": \"TP (60)\"}, {\"y_true\": 1, \"y_score\": 0.55, \"confusion_category\": \"TP (60)\"}, {\"y_true\": 1, \"y_score\": 0.8250000000000002, \"confusion_category\": \"TP (60)\"}, {\"y_true\": 1, \"y_score\": 0.95, \"confusion_category\": \"TP (60)\"}, {\"y_true\": 1, \"y_score\": 0.94, \"confusion_category\": \"TP (60)\"}, {\"y_true\": 1, \"y_score\": 0.9783333333333333, \"confusion_category\": \"TP (60)\"}, {\"y_true\": 1, \"y_score\": 0.98, \"confusion_category\": \"TP (60)\"}, {\"y_true\": 1, \"y_score\": 0.98, \"confusion_category\": \"TP (60)\"}, {\"y_true\": 1, \"y_score\": 0.85, \"confusion_category\": \"TP (60)\"}, {\"y_true\": 1, \"y_score\": 0.79, \"confusion_category\": \"TP (60)\"}, {\"y_true\": 1, \"y_score\": 0.8483333333333334, \"confusion_category\": \"TP (60)\"}, {\"y_true\": 1, \"y_score\": 0.97, \"confusion_category\": \"TP (60)\"}, {\"y_true\": 1, \"y_score\": 0.81, \"confusion_category\": \"TP (60)\"}, {\"y_true\": 1, \"y_score\": 0.83, \"confusion_category\": \"TP (60)\"}, {\"y_true\": 1, \"y_score\": 1.0, \"confusion_category\": \"TP (60)\"}, {\"y_true\": 1, \"y_score\": 0.99, \"confusion_category\": \"TP (60)\"}, {\"y_true\": 1, \"y_score\": 0.96, \"confusion_category\": \"TP (60)\"}, {\"y_true\": 1, \"y_score\": 0.77, \"confusion_category\": \"TP (60)\"}, {\"y_true\": 1, \"y_score\": 1.0, \"confusion_category\": \"TP (60)\"}, {\"y_true\": 1, \"y_score\": 0.99, \"confusion_category\": \"TP (60)\"}, {\"y_true\": 1, \"y_score\": 0.55, \"confusion_category\": \"TP (60)\"}, {\"y_true\": 1, \"y_score\": 0.94, \"confusion_category\": \"TP (60)\"}, {\"y_true\": 1, \"y_score\": 0.52, \"confusion_category\": \"TP (60)\"}, {\"y_true\": 1, \"y_score\": 0.8154761904761905, \"confusion_category\": \"TP (60)\"}, {\"y_true\": 1, \"y_score\": 0.57, \"confusion_category\": \"TP (60)\"}, {\"y_true\": 1, \"y_score\": 0.96, \"confusion_category\": \"TP (60)\"}, {\"y_true\": 1, \"y_score\": 0.96, \"confusion_category\": \"TP (60)\"}, {\"y_true\": 1, \"y_score\": 0.8683333333333334, \"confusion_category\": \"TP (60)\"}, {\"y_true\": 1, \"y_score\": 0.92, \"confusion_category\": \"TP (60)\"}, {\"y_true\": 1, \"y_score\": 1.0, \"confusion_category\": \"TP (60)\"}, {\"y_true\": 1, \"y_score\": 0.93, \"confusion_category\": \"TP (60)\"}, {\"y_true\": 1, \"y_score\": 0.97, \"confusion_category\": \"TP (60)\"}, {\"y_true\": 1, \"y_score\": 0.96, \"confusion_category\": \"TP (60)\"}, {\"y_true\": 1, \"y_score\": 0.96, \"confusion_category\": \"TP (60)\"}, {\"y_true\": 1, \"y_score\": 0.8791666666666668, \"confusion_category\": \"TP (60)\"}, {\"y_true\": 1, \"y_score\": 0.95, \"confusion_category\": \"TP (60)\"}, {\"y_true\": 1, \"y_score\": 0.67, \"confusion_category\": \"TP (60)\"}, {\"y_true\": 1, \"y_score\": 0.96, \"confusion_category\": \"TP (60)\"}, {\"y_true\": 1, \"y_score\": 0.96, \"confusion_category\": \"TP (60)\"}, {\"y_true\": 1, \"y_score\": 0.79, \"confusion_category\": \"TP (60)\"}, {\"y_true\": 1, \"y_score\": 0.87, \"confusion_category\": \"TP (60)\"}, {\"y_true\": 1, \"y_score\": 0.99, \"confusion_category\": \"TP (60)\"}, {\"y_true\": 1, \"y_score\": 0.92, \"confusion_category\": \"TP (60)\"}, {\"y_true\": 1, \"y_score\": 0.96, \"confusion_category\": \"TP (60)\"}, {\"y_true\": 1, \"y_score\": 1.0, \"confusion_category\": \"TP (60)\"}, {\"y_true\": 1, \"y_score\": 0.94, \"confusion_category\": \"TP (60)\"}, {\"y_true\": 1, \"y_score\": 0.63, \"confusion_category\": \"TP (60)\"}, {\"y_true\": 1, \"y_score\": 0.7, \"confusion_category\": \"TP (60)\"}, {\"y_true\": 1, \"y_score\": 1.0, \"confusion_category\": \"TP (60)\"}, {\"y_true\": 1, \"y_score\": 0.83, \"confusion_category\": \"TP (60)\"}, {\"y_true\": 1, \"y_score\": 0.85, \"confusion_category\": \"TP (60)\"}, {\"y_true\": 1, \"y_score\": 0.5, \"confusion_category\": \"TP (60)\"}, {\"y_true\": 1, \"y_score\": 0.7983333333333333, \"confusion_category\": \"TP (60)\"}, {\"y_true\": 1, \"y_score\": 0.96, \"confusion_category\": \"TP (60)\"}, {\"y_true\": 1, \"y_score\": 0.7333333333333333, \"confusion_category\": \"TP (60)\"}, {\"y_true\": 1, \"y_score\": 0.97, \"confusion_category\": \"TP (60)\"}, {\"y_true\": 0, \"y_score\": 1.0, \"confusion_category\": \"FP (14)\"}, {\"y_true\": 0, \"y_score\": 0.82, \"confusion_category\": \"FP (14)\"}, {\"y_true\": 0, \"y_score\": 0.8, \"confusion_category\": \"FP (14)\"}, {\"y_true\": 0, \"y_score\": 0.92, \"confusion_category\": \"FP (14)\"}, {\"y_true\": 0, \"y_score\": 0.63, \"confusion_category\": \"FP (14)\"}, {\"y_true\": 0, \"y_score\": 0.76, \"confusion_category\": \"FP (14)\"}, {\"y_true\": 0, \"y_score\": 0.568, \"confusion_category\": \"FP (14)\"}, {\"y_true\": 0, \"y_score\": 0.6154166666666666, \"confusion_category\": \"FP (14)\"}, {\"y_true\": 0, \"y_score\": 0.9, \"confusion_category\": \"FP (14)\"}, {\"y_true\": 0, \"y_score\": 0.6, \"confusion_category\": \"FP (14)\"}, {\"y_true\": 0, \"y_score\": 0.79, \"confusion_category\": \"FP (14)\"}, {\"y_true\": 0, \"y_score\": 0.6067857142857143, \"confusion_category\": \"FP (14)\"}, {\"y_true\": 0, \"y_score\": 0.69, \"confusion_category\": \"FP (14)\"}, {\"y_true\": 0, \"y_score\": 0.62, \"confusion_category\": \"FP (14)\"}, {\"y_true\": 1, \"y_score\": 0.35, \"confusion_category\": \"FN (24)\"}, {\"y_true\": 1, \"y_score\": 0.46, \"confusion_category\": \"FN (24)\"}, {\"y_true\": 1, \"y_score\": 0.07966666666666666, \"confusion_category\": \"FN (24)\"}, {\"y_true\": 1, \"y_score\": 0.21, \"confusion_category\": \"FN (24)\"}, {\"y_true\": 1, \"y_score\": 0.42114285714285715, \"confusion_category\": \"FN (24)\"}, {\"y_true\": 1, \"y_score\": 0.26, \"confusion_category\": \"FN (24)\"}, {\"y_true\": 1, \"y_score\": 0.18, \"confusion_category\": \"FN (24)\"}, {\"y_true\": 1, \"y_score\": 0.43, \"confusion_category\": \"FN (24)\"}, {\"y_true\": 1, \"y_score\": 0.44, \"confusion_category\": \"FN (24)\"}, {\"y_true\": 1, \"y_score\": 0.41, \"confusion_category\": \"FN (24)\"}, {\"y_true\": 1, \"y_score\": 0.0725, \"confusion_category\": \"FN (24)\"}, {\"y_true\": 1, \"y_score\": 0.12, \"confusion_category\": \"FN (24)\"}, {\"y_true\": 1, \"y_score\": 0.355, \"confusion_category\": \"FN (24)\"}, {\"y_true\": 1, \"y_score\": 0.03, \"confusion_category\": \"FN (24)\"}, {\"y_true\": 1, \"y_score\": 0.49, \"confusion_category\": \"FN (24)\"}, {\"y_true\": 1, \"y_score\": 0.32, \"confusion_category\": \"FN (24)\"}, {\"y_true\": 1, \"y_score\": 0.39, \"confusion_category\": \"FN (24)\"}, {\"y_true\": 1, \"y_score\": 0.0, \"confusion_category\": \"FN (24)\"}, {\"y_true\": 1, \"y_score\": 0.12411904761904763, \"confusion_category\": \"FN (24)\"}, {\"y_true\": 1, \"y_score\": 0.39, \"confusion_category\": \"FN (24)\"}, {\"y_true\": 1, \"y_score\": 0.04, \"confusion_category\": \"FN (24)\"}, {\"y_true\": 1, \"y_score\": 0.31, \"confusion_category\": \"FN (24)\"}, {\"y_true\": 1, \"y_score\": 0.05, \"confusion_category\": \"FN (24)\"}, {\"y_true\": 1, \"y_score\": 0.24, \"confusion_category\": \"FN (24)\"}, {\"y_true\": 0, \"y_score\": 0.0, \"confusion_category\": \"TN (125)\"}, {\"y_true\": 0, \"y_score\": 0.0, \"confusion_category\": \"TN (125)\"}, {\"y_true\": 0, \"y_score\": 0.41, \"confusion_category\": \"TN (125)\"}, {\"y_true\": 0, \"y_score\": 0.0, \"confusion_category\": \"TN (125)\"}, {\"y_true\": 0, \"y_score\": 0.01, \"confusion_category\": \"TN (125)\"}, {\"y_true\": 0, \"y_score\": 0.019, \"confusion_category\": \"TN (125)\"}, {\"y_true\": 0, \"y_score\": 0.43, \"confusion_category\": \"TN (125)\"}, {\"y_true\": 0, \"y_score\": 0.41, \"confusion_category\": \"TN (125)\"}, {\"y_true\": 0, \"y_score\": 0.0, \"confusion_category\": \"TN (125)\"}, {\"y_true\": 0, \"y_score\": 0.11, \"confusion_category\": \"TN (125)\"}, {\"y_true\": 0, \"y_score\": 0.17, \"confusion_category\": \"TN (125)\"}, {\"y_true\": 0, \"y_score\": 0.064, \"confusion_category\": \"TN (125)\"}, {\"y_true\": 0, \"y_score\": 0.1643333333333333, \"confusion_category\": \"TN (125)\"}, {\"y_true\": 0, \"y_score\": 0.38958333333333334, \"confusion_category\": \"TN (125)\"}, {\"y_true\": 0, \"y_score\": 0.03, \"confusion_category\": \"TN (125)\"}, {\"y_true\": 0, \"y_score\": 0.05, \"confusion_category\": \"TN (125)\"}, {\"y_true\": 0, \"y_score\": 0.32, \"confusion_category\": \"TN (125)\"}, {\"y_true\": 0, \"y_score\": 0.0, \"confusion_category\": \"TN (125)\"}, {\"y_true\": 0, \"y_score\": 0.21, \"confusion_category\": \"TN (125)\"}, {\"y_true\": 0, \"y_score\": 0.36, \"confusion_category\": \"TN (125)\"}, {\"y_true\": 0, \"y_score\": 0.31, \"confusion_category\": \"TN (125)\"}, {\"y_true\": 0, \"y_score\": 0.0, \"confusion_category\": \"TN (125)\"}, {\"y_true\": 0, \"y_score\": 0.09, \"confusion_category\": \"TN (125)\"}, {\"y_true\": 0, \"y_score\": 0.01, \"confusion_category\": \"TN (125)\"}, {\"y_true\": 0, \"y_score\": 0.35, \"confusion_category\": \"TN (125)\"}, {\"y_true\": 0, \"y_score\": 0.03, \"confusion_category\": \"TN (125)\"}, {\"y_true\": 0, \"y_score\": 0.03, \"confusion_category\": \"TN (125)\"}, {\"y_true\": 0, \"y_score\": 0.001, \"confusion_category\": \"TN (125)\"}, {\"y_true\": 0, \"y_score\": 0.03, \"confusion_category\": \"TN (125)\"}, {\"y_true\": 0, \"y_score\": 0.14500000000000002, \"confusion_category\": \"TN (125)\"}, {\"y_true\": 0, \"y_score\": 0.011166666666666665, \"confusion_category\": \"TN (125)\"}, {\"y_true\": 0, \"y_score\": 0.05, \"confusion_category\": \"TN (125)\"}, {\"y_true\": 0, \"y_score\": 0.44, \"confusion_category\": \"TN (125)\"}, {\"y_true\": 0, \"y_score\": 0.11315664890664888, \"confusion_category\": \"TN (125)\"}, {\"y_true\": 0, \"y_score\": 0.0, \"confusion_category\": \"TN (125)\"}, {\"y_true\": 0, \"y_score\": 0.0, \"confusion_category\": \"TN (125)\"}, {\"y_true\": 0, \"y_score\": 0.03, \"confusion_category\": \"TN (125)\"}, {\"y_true\": 0, \"y_score\": 0.49, \"confusion_category\": \"TN (125)\"}, {\"y_true\": 0, \"y_score\": 0.17, \"confusion_category\": \"TN (125)\"}, {\"y_true\": 0, \"y_score\": 0.11315664890664888, \"confusion_category\": \"TN (125)\"}, {\"y_true\": 0, \"y_score\": 0.17666666666666664, \"confusion_category\": \"TN (125)\"}, {\"y_true\": 0, \"y_score\": 0.04, \"confusion_category\": \"TN (125)\"}, {\"y_true\": 0, \"y_score\": 0.33, \"confusion_category\": \"TN (125)\"}, {\"y_true\": 0, \"y_score\": 0.0, \"confusion_category\": \"TN (125)\"}, {\"y_true\": 0, \"y_score\": 0.12, \"confusion_category\": \"TN (125)\"}, {\"y_true\": 0, \"y_score\": 0.01, \"confusion_category\": \"TN (125)\"}, {\"y_true\": 0, \"y_score\": 0.21, \"confusion_category\": \"TN (125)\"}, {\"y_true\": 0, \"y_score\": 0.06, \"confusion_category\": \"TN (125)\"}, {\"y_true\": 0, \"y_score\": 0.01, \"confusion_category\": \"TN (125)\"}, {\"y_true\": 0, \"y_score\": 0.0, \"confusion_category\": \"TN (125)\"}, {\"y_true\": 0, \"y_score\": 0.26, \"confusion_category\": \"TN (125)\"}, {\"y_true\": 0, \"y_score\": 0.26, \"confusion_category\": \"TN (125)\"}, {\"y_true\": 0, \"y_score\": 0.0, \"confusion_category\": \"TN (125)\"}, {\"y_true\": 0, \"y_score\": 0.02, \"confusion_category\": \"TN (125)\"}, {\"y_true\": 0, \"y_score\": 0.0, \"confusion_category\": \"TN (125)\"}, {\"y_true\": 0, \"y_score\": 0.33, \"confusion_category\": \"TN (125)\"}, {\"y_true\": 0, \"y_score\": 0.01, \"confusion_category\": \"TN (125)\"}, {\"y_true\": 0, \"y_score\": 0.49, \"confusion_category\": \"TN (125)\"}, {\"y_true\": 0, \"y_score\": 0.06, \"confusion_category\": \"TN (125)\"}, {\"y_true\": 0, \"y_score\": 0.20833333333333337, \"confusion_category\": \"TN (125)\"}, {\"y_true\": 0, \"y_score\": 0.07999999999999999, \"confusion_category\": \"TN (125)\"}, {\"y_true\": 0, \"y_score\": 0.12, \"confusion_category\": \"TN (125)\"}, {\"y_true\": 0, \"y_score\": 0.06, \"confusion_category\": \"TN (125)\"}, {\"y_true\": 0, \"y_score\": 0.33, \"confusion_category\": \"TN (125)\"}, {\"y_true\": 0, \"y_score\": 0.013333333333333332, \"confusion_category\": \"TN (125)\"}, {\"y_true\": 0, \"y_score\": 0.01, \"confusion_category\": \"TN (125)\"}, {\"y_true\": 0, \"y_score\": 0.19, \"confusion_category\": \"TN (125)\"}, {\"y_true\": 0, \"y_score\": 0.1, \"confusion_category\": \"TN (125)\"}, {\"y_true\": 0, \"y_score\": 0.0, \"confusion_category\": \"TN (125)\"}, {\"y_true\": 0, \"y_score\": 0.15666666666666668, \"confusion_category\": \"TN (125)\"}, {\"y_true\": 0, \"y_score\": 0.0, \"confusion_category\": \"TN (125)\"}, {\"y_true\": 0, \"y_score\": 0.03, \"confusion_category\": \"TN (125)\"}, {\"y_true\": 0, \"y_score\": 0.04566666666666666, \"confusion_category\": \"TN (125)\"}, {\"y_true\": 0, \"y_score\": 0.32, \"confusion_category\": \"TN (125)\"}, {\"y_true\": 0, \"y_score\": 0.03, \"confusion_category\": \"TN (125)\"}, {\"y_true\": 0, \"y_score\": 0.01, \"confusion_category\": \"TN (125)\"}, {\"y_true\": 0, \"y_score\": 0.05, \"confusion_category\": \"TN (125)\"}, {\"y_true\": 0, \"y_score\": 0.03, \"confusion_category\": \"TN (125)\"}, {\"y_true\": 0, \"y_score\": 0.01, \"confusion_category\": \"TN (125)\"}, {\"y_true\": 0, \"y_score\": 0.02, \"confusion_category\": \"TN (125)\"}, {\"y_true\": 0, \"y_score\": 0.26166666666666666, \"confusion_category\": \"TN (125)\"}, {\"y_true\": 0, \"y_score\": 0.25, \"confusion_category\": \"TN (125)\"}, {\"y_true\": 0, \"y_score\": 0.33, \"confusion_category\": \"TN (125)\"}, {\"y_true\": 0, \"y_score\": 0.19, \"confusion_category\": \"TN (125)\"}, {\"y_true\": 0, \"y_score\": 0.2534090909090909, \"confusion_category\": \"TN (125)\"}, {\"y_true\": 0, \"y_score\": 0.12, \"confusion_category\": \"TN (125)\"}, {\"y_true\": 0, \"y_score\": 0.06, \"confusion_category\": \"TN (125)\"}, {\"y_true\": 0, \"y_score\": 0.03, \"confusion_category\": \"TN (125)\"}, {\"y_true\": 0, \"y_score\": 0.05, \"confusion_category\": \"TN (125)\"}, {\"y_true\": 0, \"y_score\": 0.1, \"confusion_category\": \"TN (125)\"}, {\"y_true\": 0, \"y_score\": 0.17, \"confusion_category\": \"TN (125)\"}, {\"y_true\": 0, \"y_score\": 0.002, \"confusion_category\": \"TN (125)\"}, {\"y_true\": 0, \"y_score\": 0.01, \"confusion_category\": \"TN (125)\"}, {\"y_true\": 0, \"y_score\": 0.02, \"confusion_category\": \"TN (125)\"}, {\"y_true\": 0, \"y_score\": 0.01, \"confusion_category\": \"TN (125)\"}, {\"y_true\": 0, \"y_score\": 0.13, \"confusion_category\": \"TN (125)\"}, {\"y_true\": 0, \"y_score\": 0.05, \"confusion_category\": \"TN (125)\"}, {\"y_true\": 0, \"y_score\": 0.01, \"confusion_category\": \"TN (125)\"}, {\"y_true\": 0, \"y_score\": 0.09572366522366522, \"confusion_category\": \"TN (125)\"}, {\"y_true\": 0, \"y_score\": 0.29, \"confusion_category\": \"TN (125)\"}, {\"y_true\": 0, \"y_score\": 0.05, \"confusion_category\": \"TN (125)\"}, {\"y_true\": 0, \"y_score\": 0.0, \"confusion_category\": \"TN (125)\"}, {\"y_true\": 0, \"y_score\": 0.04583333333333333, \"confusion_category\": \"TN (125)\"}, {\"y_true\": 0, \"y_score\": 0.0, \"confusion_category\": \"TN (125)\"}, {\"y_true\": 0, \"y_score\": 0.04, \"confusion_category\": \"TN (125)\"}, {\"y_true\": 0, \"y_score\": 0.20238528138528136, \"confusion_category\": \"TN (125)\"}, {\"y_true\": 0, \"y_score\": 0.01, \"confusion_category\": \"TN (125)\"}, {\"y_true\": 0, \"y_score\": 0.10083333333333332, \"confusion_category\": \"TN (125)\"}, {\"y_true\": 0, \"y_score\": 0.01, \"confusion_category\": \"TN (125)\"}, {\"y_true\": 0, \"y_score\": 0.03, \"confusion_category\": \"TN (125)\"}, {\"y_true\": 0, \"y_score\": 0.03, \"confusion_category\": \"TN (125)\"}, {\"y_true\": 0, \"y_score\": 0.02, \"confusion_category\": \"TN (125)\"}, {\"y_true\": 0, \"y_score\": 0.0, \"confusion_category\": \"TN (125)\"}, {\"y_true\": 0, \"y_score\": 0.17, \"confusion_category\": \"TN (125)\"}, {\"y_true\": 0, \"y_score\": 0.22, \"confusion_category\": \"TN (125)\"}, {\"y_true\": 0, \"y_score\": 0.14, \"confusion_category\": \"TN (125)\"}, {\"y_true\": 0, \"y_score\": 0.22, \"confusion_category\": \"TN (125)\"}, {\"y_true\": 0, \"y_score\": 0.1876428571428571, \"confusion_category\": \"TN (125)\"}, {\"y_true\": 0, \"y_score\": 0.23, \"confusion_category\": \"TN (125)\"}, {\"y_true\": 0, \"y_score\": 0.35, \"confusion_category\": \"TN (125)\"}, {\"y_true\": 0, \"y_score\": 0.05, \"confusion_category\": \"TN (125)\"}, {\"y_true\": 0, \"y_score\": 0.21, \"confusion_category\": \"TN (125)\"}, {\"y_true\": 0, \"y_score\": 0.014468253968253965, \"confusion_category\": \"TN (125)\"}, {\"y_true\": 0, \"y_score\": 0.34, \"confusion_category\": \"TN (125)\"}, {\"y_true\": 0, \"y_score\": 0.03, \"confusion_category\": \"TN (125)\"}]}}, {\"mode\": \"vega-lite\"});\n",
       "</script>"
      ],
      "text/plain": [
       "alt.Chart(...)"
      ]
     },
     "execution_count": 9,
     "metadata": {},
     "output_type": "execute_result"
    }
   ],
   "source": [
    "scoring_confusion_matrix(df_scores, \"y_score\", \"y_true\")"
   ]
  },
  {
   "cell_type": "markdown",
   "metadata": {},
   "source": [
    "---"
   ]
  }
 ],
 "metadata": {
  "kernelspec": {
   "display_name": "Python 3",
   "language": "python",
   "name": "python3"
  },
  "language_info": {
   "codemirror_mode": {
    "name": "ipython",
    "version": 3
   },
   "file_extension": ".py",
   "mimetype": "text/x-python",
   "name": "python",
   "nbconvert_exporter": "python",
   "pygments_lexer": "ipython3",
   "version": "3.8.5"
  }
 },
 "nbformat": 4,
 "nbformat_minor": 4
}
