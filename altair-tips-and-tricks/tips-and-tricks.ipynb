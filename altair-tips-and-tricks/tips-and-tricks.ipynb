{
 "cells": [
  {
   "cell_type": "code",
   "execution_count": null,
   "metadata": {},
   "outputs": [],
   "source": [
    "import altair as alt\n",
    "import pandas as pd\n",
    "from vega_datasets import data"
   ]
  },
  {
   "cell_type": "markdown",
   "metadata": {},
   "source": [
    "# 1. Color the lines of a slopegraph, based on one of the fields, if the slope is positive.\n",
    "\n",
    "Source: https://github.com/altair-viz/altair/issues/2178 and https://altair-viz.github.io/gallery/slope_graph.html."
   ]
  },
  {
   "cell_type": "code",
   "execution_count": null,
   "metadata": {},
   "outputs": [],
   "source": [
    "source = data.barley()\n",
    "\n",
    "alt.Chart(source).mark_line().encode(\n",
    "    x=\"year:O\",\n",
    "    y=\"median_yield:Q\",\n",
    "    color=alt.condition(\"datum.slope > 0\", \"site:N\", alt.value(\"lightgray\")),\n",
    ").transform_aggregate(\n",
    "    median_yield=\"median(yield)\", groupby=[\"year\", \"site\"]\n",
    ").transform_pivot(\n",
    "    \"year\", value=\"median_yield\", groupby=[\"site\"]\n",
    ").transform_calculate(\n",
    "    slope=alt.datum[\"1932\"] - alt.datum[\"1931\"]\n",
    ").transform_fold(\n",
    "    [\"1931\", \"1932\"], as_=[\"year\", \"median_yield\"]\n",
    ")"
   ]
  },
  {
   "cell_type": "markdown",
   "metadata": {},
   "source": [
    "# 2. Layered count histogram and cumulative histogram.\n",
    "\n",
    "Source: https://vega.github.io/vega-lite/examples/layer_cumulative_histogram.html."
   ]
  },
  {
   "cell_type": "code",
   "execution_count": null,
   "metadata": {},
   "outputs": [],
   "source": [
    "movies = data.movies()\n",
    "movies.head()"
   ]
  },
  {
   "cell_type": "code",
   "execution_count": null,
   "metadata": {},
   "outputs": [],
   "source": [
    "base = (\n",
    "    alt.Chart(movies)\n",
    "    .encode(\n",
    "        x=alt.X(\"bin_IMDB_Rating:Q\", axis=alt.Axis(title=\"IMDB Rating\")),\n",
    "        x2=alt.X2(\"bin_IMDB_Rating_end:Q\"),\n",
    "    )\n",
    "    .transform_bin(\"bin_IMDB_Rating\", field=\"IMDB Rating\", bin=True)\n",
    "    .transform_aggregate(\n",
    "        groupby=[\"bin_IMDB_Rating\", \"bin_IMDB_Rating_end\"], count=\"count()\",\n",
    "    )\n",
    "    .transform_filter(\"datum.bin_IMDB_Rating != null\")\n",
    "    .transform_window(\n",
    "        cumulative_count=\"sum(count)\", sort=[alt.SortField(\"bin_IMDB_Rating\")]\n",
    "    )\n",
    ")\n",
    "\n",
    "count_hist = base.mark_bar(color=\"yellow\", opacity=0.5).encode(y=alt.Y(\"count:Q\"))\n",
    "\n",
    "cum_hist = base.mark_bar().encode(y=alt.Y(\"cumulative_count:Q\"))\n",
    "\n",
    "cum_hist + count_hist"
   ]
  },
  {
   "cell_type": "markdown",
   "metadata": {},
   "source": [
    "# 3. Chart title with the same style as the axis title or axis labels (via built-in guide styles).\n",
    "\n",
    "Source: https://altair-viz.github.io/user_guide/generated/core/altair.TitleParams.html and https://vega.github.io/vega-lite/docs/config.html#guide-config"
   ]
  },
  {
   "cell_type": "code",
   "execution_count": null,
   "metadata": {},
   "outputs": [],
   "source": [
    "source = alt.pd.DataFrame(\n",
    "    {\n",
    "        \"a\": [\"A\", \"B\", \"C\", \"D\", \"E\", \"F\", \"G\", \"H\", \"I\"],\n",
    "        \"b\": [28, 55, 43, 91, 81, 53, 19, 87, 52],\n",
    "    }\n",
    ")\n",
    "\n",
    "default = (\n",
    "    alt.Chart(source, title=alt.TitleParams(\"Bar Chart\", style=\"group-title\"))\n",
    "    .mark_bar()\n",
    "    .encode(x=\"a\", y=\"b\")\n",
    ")\n",
    "\n",
    "axis_title = (\n",
    "    alt.Chart(source, title=alt.TitleParams(\"Bar Chart\", style=\"guide-title\"))\n",
    "    .mark_bar()\n",
    "    .encode(x=\"a\", y=\"b\")\n",
    ")\n",
    "\n",
    "axis_labels = (\n",
    "    alt.Chart(source, title=alt.TitleParams(\"Bar Chart\", style=\"guide-label\"))\n",
    "    .mark_bar()\n",
    "    .encode(x=\"a\", y=\"b\")\n",
    ")\n",
    "\n",
    "default | axis_title | axis_labels"
   ]
  },
  {
   "cell_type": "code",
   "execution_count": null,
   "metadata": {},
   "outputs": [],
   "source": []
  }
 ],
 "metadata": {
  "kernelspec": {
   "display_name": "Python 3",
   "language": "python",
   "name": "python3"
  },
  "language_info": {
   "codemirror_mode": {
    "name": "ipython",
    "version": 3
   },
   "file_extension": ".py",
   "mimetype": "text/x-python",
   "name": "python",
   "nbconvert_exporter": "python",
   "pygments_lexer": "ipython3",
   "version": "3.6.10"
  }
 },
 "nbformat": 4,
 "nbformat_minor": 4
}
