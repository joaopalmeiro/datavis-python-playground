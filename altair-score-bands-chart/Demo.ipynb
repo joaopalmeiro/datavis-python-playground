{
 "cells": [
  {
   "cell_type": "markdown",
   "metadata": {},
   "source": [
    "# Imports"
   ]
  },
  {
   "cell_type": "code",
   "execution_count": null,
   "metadata": {},
   "outputs": [],
   "source": [
    "import altair as alt\n",
    "from altair_saver import save"
   ]
  },
  {
   "cell_type": "markdown",
   "metadata": {},
   "source": [
    "# Altair Settings"
   ]
  },
  {
   "cell_type": "code",
   "execution_count": null,
   "metadata": {},
   "outputs": [],
   "source": [
    "alt.__version__"
   ]
  },
  {
   "cell_type": "code",
   "execution_count": null,
   "metadata": {},
   "outputs": [],
   "source": [
    "alt.renderers.names()"
   ]
  },
  {
   "cell_type": "code",
   "execution_count": null,
   "metadata": {},
   "outputs": [],
   "source": [
    "def roboto():\n",
    "    font = \"Roboto\"\n",
    "    color = \"#2F2F2F\"\n",
    "\n",
    "    return {\n",
    "        \"config\": {\n",
    "            \"title\": {\"font\": font, \"color\": color},\n",
    "            \"axis\": {\n",
    "                \"labelFont\": font,\n",
    "                \"titleFont\": font,\n",
    "                \"labelColor\": color,\n",
    "                \"tickColor\": color,\n",
    "                \"titleColor\": color,\n",
    "                \"domainColor\": color,\n",
    "            },\n",
    "            \"header\": {\n",
    "                \"labelFont\": font,\n",
    "                \"titleFont\": font,\n",
    "                \"labelColor\": color,\n",
    "                \"titleColor\": color,\n",
    "            },\n",
    "            \"legend\": {\n",
    "                \"labelFont\": font,\n",
    "                \"titleFont\": font,\n",
    "                \"labelColor\": color,\n",
    "                \"titleColor\": color,\n",
    "            },\n",
    "            \"rule\": {\"color\": color},\n",
    "        }\n",
    "    }\n",
    "\n",
    "\n",
    "alt.themes.register(\"roboto\", roboto)\n",
    "alt.themes.enable(\"roboto\")"
   ]
  },
  {
   "cell_type": "markdown",
   "metadata": {},
   "source": [
    "# Score Bands Chart"
   ]
  },
  {
   "cell_type": "code",
   "execution_count": null,
   "metadata": {},
   "outputs": [],
   "source": [
    "source = [\n",
    "    {\n",
    "        \"start\": 0.4,\n",
    "        \"end\": 0.6,\n",
    "        \"label\": \"Uncertain (for review)\",\n",
    "        \"id\": \"uncertain\",\n",
    "    },\n",
    "    {\"start\": 0.0, \"end\": 0.4, \"label\": \"Non-Fraud\", \"id\": \"neg\"},\n",
    "    {\"start\": 0.6, \"end\": 1.0, \"label\": \"Fraud\", \"id\": \"pos\",},\n",
    "]\n",
    "\n",
    "classification_threshold = [{\"threshold\": 0.5}]"
   ]
  },
  {
   "cell_type": "code",
   "execution_count": null,
   "metadata": {},
   "outputs": [],
   "source": [
    "source = alt.pd.DataFrame(source)\n",
    "\n",
    "classification_threshold = alt.pd.DataFrame(classification_threshold)"
   ]
  },
  {
   "cell_type": "code",
   "execution_count": null,
   "metadata": {},
   "outputs": [],
   "source": [
    "def score_bands_chart(\n",
    "    source, classification_threshold, h=100, w=500, marker_color=\"#2F2F2F\"\n",
    "):\n",
    "    ct = classification_threshold.iloc[0, 0]\n",
    "\n",
    "    base = alt.Chart(source)\n",
    "\n",
    "    domain = source.sort_values(by=[\"start\"])[\"label\"].tolist()\n",
    "    range_ = [\"#368F8B\", \"#EFF2EF\", \"#EE6C4D\"]\n",
    "\n",
    "    vline_shape = \"M 0 1 L 0 -1\"\n",
    "    hline_shape = \"M 1 0 L -1 0\"\n",
    "\n",
    "    rect = base.mark_rect().encode(\n",
    "        x=alt.X(\n",
    "            \"start:Q\",\n",
    "            axis=alt.Axis(\n",
    "                domainColor=\"transparent\",\n",
    "                title=None,\n",
    "                ticks=False,\n",
    "                format=\".1\",\n",
    "                values=[\n",
    "                    source[\"start\"].min(),\n",
    "                    source.loc[source[\"id\"] == \"uncertain\", \"start\"].iloc[0],\n",
    "                    source.loc[source[\"id\"] == \"uncertain\", \"end\"].iloc[0],\n",
    "                    source[\"end\"].max(),\n",
    "                ],\n",
    "            ),\n",
    "        ),\n",
    "        x2=alt.X2(\"end:Q\"),\n",
    "        color=alt.Color(\n",
    "            \"label:N\",\n",
    "            legend=alt.Legend(title=\"Output Label\", titleFontWeight=\"normal\"),\n",
    "            scale=alt.Scale(domain=domain, range=range_),\n",
    "        ),\n",
    "    )\n",
    "\n",
    "    rule = (\n",
    "        alt.Chart(classification_threshold)\n",
    "        .mark_rule()\n",
    "        .encode(\n",
    "            x=alt.X(\"threshold:Q\"),\n",
    "            size=alt.SizeValue(1.0),\n",
    "            color=alt.Color(\n",
    "                \"threshold:Q\",\n",
    "                scale=alt.Scale(domain=[ct], range=[marker_color]),\n",
    "                legend=alt.Legend(\n",
    "                    title=\"Classification Threshold\",\n",
    "                    titleFontWeight=\"normal\",\n",
    "                    format=\".1\",\n",
    "                    type=\"symbol\",\n",
    "                    symbolType=vline_shape,\n",
    "                ),\n",
    "            ),\n",
    "        )\n",
    "    )\n",
    "\n",
    "    chart = rect + rule\n",
    "\n",
    "    chart = (\n",
    "        chart.configure_axis(grid=False)\n",
    "        .configure_view(strokeWidth=0)\n",
    "        .properties(width=w, height=h)\n",
    "    )\n",
    "\n",
    "    return chart"
   ]
  },
  {
   "cell_type": "code",
   "execution_count": null,
   "metadata": {},
   "outputs": [],
   "source": [
    "chart = score_bands_chart(source, classification_threshold)\n",
    "\n",
    "chart"
   ]
  },
  {
   "cell_type": "code",
   "execution_count": null,
   "metadata": {},
   "outputs": [],
   "source": [
    "?save"
   ]
  },
  {
   "cell_type": "code",
   "execution_count": null,
   "metadata": {},
   "outputs": [],
   "source": [
    "save(\n",
    "    chart,\n",
    "    \"score_bands_chart.png\",\n",
    "    method=\"selenium\",\n",
    "    webdriver=\"chrome\",\n",
    "    scale_factor=6.0,\n",
    ")"
   ]
  },
  {
   "cell_type": "markdown",
   "metadata": {},
   "source": [
    "---"
   ]
  }
 ],
 "metadata": {
  "kernelspec": {
   "display_name": "Python 3",
   "language": "python",
   "name": "python3"
  },
  "language_info": {
   "codemirror_mode": {
    "name": "ipython",
    "version": 3
   },
   "file_extension": ".py",
   "mimetype": "text/x-python",
   "name": "python",
   "nbconvert_exporter": "python",
   "pygments_lexer": "ipython3",
   "version": "3.7.6"
  }
 },
 "nbformat": 4,
 "nbformat_minor": 4
}
