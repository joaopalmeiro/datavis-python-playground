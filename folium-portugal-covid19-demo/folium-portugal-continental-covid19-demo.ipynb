{
 "cells": [
  {
   "cell_type": "code",
   "execution_count": null,
   "metadata": {},
   "outputs": [],
   "source": [
    "import folium\n",
    "import pandas as pd\n",
    "import geopandas as gpd\n",
    "\n",
    "%load_ext watermark"
   ]
  },
  {
   "cell_type": "code",
   "execution_count": null,
   "metadata": {},
   "outputs": [],
   "source": [
    "%watermark -a \"João Palmeiro\" -u -d -v -p folium,pandas,geopandas"
   ]
  },
  {
   "cell_type": "code",
   "execution_count": null,
   "metadata": {},
   "outputs": [],
   "source": [
    "URL_GEOJSON = \"https://raw.githubusercontent.com/joaopalmeiro/portugal-maps/master/geojson/ccdr_portugal_continental.geojson\"\n",
    "URL_DATA = \"https://raw.githubusercontent.com/dssg-pt/covid19pt-data/master/data.csv\""
   ]
  },
  {
   "cell_type": "code",
   "execution_count": null,
   "metadata": {},
   "outputs": [],
   "source": [
    "df_map = gpd.read_file(URL_GEOJSON)"
   ]
  },
  {
   "cell_type": "code",
   "execution_count": null,
   "metadata": {},
   "outputs": [],
   "source": [
    "data = pd.read_csv(URL_DATA)"
   ]
  },
  {
   "cell_type": "code",
   "execution_count": null,
   "metadata": {},
   "outputs": [],
   "source": [
    "df_most_recent_date = data.tail(1)"
   ]
  },
  {
   "cell_type": "code",
   "execution_count": null,
   "metadata": {},
   "outputs": [],
   "source": [
    "confirmed_col = {\n",
    "    \"Alentejo\": df_most_recent_date[\"confirmados_arsalentejo\"].item(),\n",
    "    \"Algarve\": df_most_recent_date[\"confirmados_arsalgarve\"].item(),\n",
    "    \"Centro\": df_most_recent_date[\"confirmados_arscentro\"].item(),\n",
    "    \"Norte\": df_most_recent_date[\"confirmados_arsnorte\"].item(), \n",
    "    \"RLVT\": df_most_recent_date[\"confirmados_arslvt\"].item()\n",
    "}"
   ]
  },
  {
   "cell_type": "code",
   "execution_count": null,
   "metadata": {},
   "outputs": [],
   "source": [
    "df_map[\"confirmed\"] = df_map[\"CCDR\"].map(confirmed_col)"
   ]
  },
  {
   "cell_type": "code",
   "execution_count": null,
   "metadata": {},
   "outputs": [],
   "source": [
    "df_map"
   ]
  },
  {
   "cell_type": "code",
   "execution_count": null,
   "metadata": {},
   "outputs": [],
   "source": [
    "m = folium.Map(location=[39.557191, -7.8536599], zoom_start=6, tiles=\"cartodbpositron\")\n",
    "\n",
    "tooltip = folium.features.GeoJsonTooltip(\n",
    "    fields=[\"CCDR\", \"confirmed\"],\n",
    "    aliases=[\"Regional Health Administration:\", \"Number of Confirmed Cases:\"]\n",
    ")\n",
    "\n",
    "choropleth = folium.Choropleth(\n",
    "    geo_data=df_map,\n",
    "    name='choropleth',\n",
    "    data=df_map[['CCDR', 'confirmed']],\n",
    "    columns=['CCDR', 'confirmed'],\n",
    "    key_on='feature.properties.CCDR',\n",
    "    fill_color='Blues',\n",
    "    fill_opacity=0.9,\n",
    "    line_opacity=0.5,\n",
    "    legend_name=f'Number of Confirmed Cases: {df_most_recent_date[\"data\"].item()}'\n",
    ").add_to(m)\n",
    "\n",
    "choropleth.geojson.add_child(\n",
    "    tooltip\n",
    ")\n",
    "\n",
    "folium.LayerControl('topleft').add_to(m)\n",
    "\n",
    "m"
   ]
  }
 ],
 "metadata": {
  "kernelspec": {
   "display_name": "Python 3",
   "language": "python",
   "name": "python3"
  },
  "language_info": {
   "codemirror_mode": {
    "name": "ipython",
    "version": 3
   },
   "file_extension": ".py",
   "mimetype": "text/x-python",
   "name": "python",
   "nbconvert_exporter": "python",
   "pygments_lexer": "ipython3",
   "version": "3.7.6"
  }
 },
 "nbformat": 4,
 "nbformat_minor": 4
}
