{
 "cells": [
  {
   "cell_type": "markdown",
   "metadata": {},
   "source": [
    "## Width-Scale Bar Chart\n",
    "\n",
    "References:\n",
    "\n",
    "- Höhn, M., Wunderlich, M., Ballweg, K., & Landesberger, T. (2020). Width-Scale Bar Charts for Data with Large Value Range. In _EuroVis 2020 - Short Papers_. The Eurographics Association. [🔗](https://diglib.eg.org/handle/10.2312/evs20201056)"
   ]
  },
  {
   "cell_type": "code",
   "execution_count": 1,
   "metadata": {},
   "outputs": [],
   "source": [
    "import pandas as pd\n",
    "import altair as alt\n",
    "from decimal import Decimal"
   ]
  },
  {
   "cell_type": "code",
   "execution_count": 2,
   "metadata": {},
   "outputs": [
    {
     "data": {
      "text/plain": [
       "'4.1.0'"
      ]
     },
     "execution_count": 2,
     "metadata": {},
     "output_type": "execute_result"
    }
   ],
   "source": [
    "alt.__version__"
   ]
  },
  {
   "cell_type": "code",
   "execution_count": 3,
   "metadata": {},
   "outputs": [],
   "source": [
    "data = dict(\n",
    "    category=[\"A\", \"B\", \"C\", \"D\", \"E\", \"F\", \"G\", \"H\"], \n",
    "    value=[800, 100, 4, 20, 400, 2000, 10, 60] \n",
    ")"
   ]
  },
  {
   "cell_type": "code",
   "execution_count": 4,
   "metadata": {},
   "outputs": [],
   "source": [
    "def numeric_to_mantissa_and_exponent(value):\n",
    "    exponent = int(len(str(abs(value)).split(\".\")[0]) - 1)\n",
    "    mantissa = float(value * 10 ** -exponent)\n",
    "    multiplier = int(10 ** exponent)\n",
    "    \n",
    "    return mantissa, exponent, multiplier\n",
    "\n",
    "def end_x(value):\n",
    "    return 10 * (value + 1)"
   ]
  },
  {
   "cell_type": "code",
   "execution_count": 5,
   "metadata": {},
   "outputs": [],
   "source": [
    "def create_dataset(data):\n",
    "    df = pd.DataFrame(data)\n",
    "    df[\"mantissa\"], df[\"exponent\"], df[\"multiplier\"] = zip(*df[\"value\"].map(numeric_to_mantissa_and_exponent))\n",
    "    df[\"end\"] = df[\"exponent\"].map(end_x)\n",
    "    df[\"end\"] = df['end'].cumsum() \n",
    "    df[\"start\"] = df[\"end\"].shift(fill_value=0)\n",
    "    df[\"middle\"] = ((df[\"end\"] - df[\"start\"]) / 2) + df[\"start\"]\n",
    "    \n",
    "    return df"
   ]
  },
  {
   "cell_type": "code",
   "execution_count": 6,
   "metadata": {},
   "outputs": [],
   "source": [
    "df = create_dataset(data)"
   ]
  },
  {
   "cell_type": "code",
   "execution_count": 7,
   "metadata": {},
   "outputs": [],
   "source": [
    "def wsb_chart(data, w=600, h=300):\n",
    "    base = alt.Chart(data, width=w, height=h)\n",
    "    \n",
    "    bar = base.mark_rect(xOffset=1.0, x2Offset=0.5).encode(\n",
    "        x=alt.X('start:Q', axis=alt.Axis(titleY=(-0.5 + 22), labels=False, title=\"Category\", grid=False, values=data[\"middle\"].to_list())),\n",
    "        x2=alt.X2(\"end:Q\"),\n",
    "        y=alt.Y('mantissa:Q', axis=alt.Axis(titleX=(0.5 + -22), title=\"Mantissa\"), scale=alt.Scale(domain=[0, 10])),\n",
    "        color=alt.Color(\"multiplier:O\", title=\"Magnitude Multiplier\", legend=alt.Legend(labelExpr=\"'× ' + datum.value\"), scale=alt.Scale(scheme=\"reds\")),\n",
    "    \n",
    "    )\n",
    "    \n",
    "    # Altair/Vega-Lite:\n",
    "    # default `fontSize` = 11\n",
    "    # default `tickSize` = 5\n",
    "    # default `labelPadding` = 2\n",
    "    # default `translate` = 0.5\n",
    "    \n",
    "    text = base.mark_text(align='center', dx=0.5, baseline='middle', fontSize=11).encode(\n",
    "        x=alt.X('middle:Q'),\n",
    "        y=alt.value(h + (11/2) + 5 + 2 + 0.5),\n",
    "        text=alt.Text(\"category:N\")\n",
    "    )\n",
    "    \n",
    "    return (bar + text).configure_view(strokeWidth=0)"
   ]
  },
  {
   "cell_type": "code",
   "execution_count": 8,
   "metadata": {
    "scrolled": false
   },
   "outputs": [
    {
     "data": {
      "text/html": [
       "\n",
       "<div id=\"altair-viz-42f88efceca84d69b881df19e76302ac\"></div>\n",
       "<script type=\"text/javascript\">\n",
       "  (function(spec, embedOpt){\n",
       "    let outputDiv = document.currentScript.previousElementSibling;\n",
       "    if (outputDiv.id !== \"altair-viz-42f88efceca84d69b881df19e76302ac\") {\n",
       "      outputDiv = document.getElementById(\"altair-viz-42f88efceca84d69b881df19e76302ac\");\n",
       "    }\n",
       "    const paths = {\n",
       "      \"vega\": \"https://cdn.jsdelivr.net/npm//vega@5?noext\",\n",
       "      \"vega-lib\": \"https://cdn.jsdelivr.net/npm//vega-lib?noext\",\n",
       "      \"vega-lite\": \"https://cdn.jsdelivr.net/npm//vega-lite@4.8.1?noext\",\n",
       "      \"vega-embed\": \"https://cdn.jsdelivr.net/npm//vega-embed@6?noext\",\n",
       "    };\n",
       "\n",
       "    function loadScript(lib) {\n",
       "      return new Promise(function(resolve, reject) {\n",
       "        var s = document.createElement('script');\n",
       "        s.src = paths[lib];\n",
       "        s.async = true;\n",
       "        s.onload = () => resolve(paths[lib]);\n",
       "        s.onerror = () => reject(`Error loading script: ${paths[lib]}`);\n",
       "        document.getElementsByTagName(\"head\")[0].appendChild(s);\n",
       "      });\n",
       "    }\n",
       "\n",
       "    function showError(err) {\n",
       "      outputDiv.innerHTML = `<div class=\"error\" style=\"color:red;\">${err}</div>`;\n",
       "      throw err;\n",
       "    }\n",
       "\n",
       "    function displayChart(vegaEmbed) {\n",
       "      vegaEmbed(outputDiv, spec, embedOpt)\n",
       "        .catch(err => showError(`Javascript Error: ${err.message}<br>This usually means there's a typo in your chart specification. See the javascript console for the full traceback.`));\n",
       "    }\n",
       "\n",
       "    if(typeof define === \"function\" && define.amd) {\n",
       "      requirejs.config({paths});\n",
       "      require([\"vega-embed\"], displayChart, err => showError(`Error loading script: ${err.message}`));\n",
       "    } else if (typeof vegaEmbed === \"function\") {\n",
       "      displayChart(vegaEmbed);\n",
       "    } else {\n",
       "      loadScript(\"vega\")\n",
       "        .then(() => loadScript(\"vega-lite\"))\n",
       "        .then(() => loadScript(\"vega-embed\"))\n",
       "        .catch(showError)\n",
       "        .then(() => displayChart(vegaEmbed));\n",
       "    }\n",
       "  })({\"config\": {\"view\": {\"continuousWidth\": 400, \"continuousHeight\": 300, \"strokeWidth\": 0}}, \"layer\": [{\"mark\": {\"type\": \"rect\", \"x2Offset\": 0.5, \"xOffset\": 1.0}, \"encoding\": {\"color\": {\"type\": \"ordinal\", \"field\": \"multiplier\", \"legend\": {\"labelExpr\": \"'\\u00d7 ' + datum.value\"}, \"scale\": {\"scheme\": \"reds\"}, \"title\": \"Magnitude Multiplier\"}, \"x\": {\"type\": \"quantitative\", \"axis\": {\"grid\": false, \"labels\": false, \"title\": \"Category\", \"titleY\": 21.5, \"values\": [15.0, 45.0, 65.0, 80.0, 105.0, 140.0, 170.0, 190.0]}, \"field\": \"start\"}, \"x2\": {\"field\": \"end\"}, \"y\": {\"type\": \"quantitative\", \"axis\": {\"title\": \"Mantissa\", \"titleX\": -21.5}, \"field\": \"mantissa\", \"scale\": {\"domain\": [0, 10]}}}, \"height\": 300, \"width\": 600}, {\"mark\": {\"type\": \"text\", \"align\": \"center\", \"baseline\": \"middle\", \"dx\": 0.5, \"fontSize\": 11}, \"encoding\": {\"text\": {\"type\": \"nominal\", \"field\": \"category\"}, \"x\": {\"type\": \"quantitative\", \"field\": \"middle\"}, \"y\": {\"value\": 313.0}}, \"height\": 300, \"width\": 600}], \"data\": {\"name\": \"data-c06a9b5a452c4bdf135af9f36ca19325\"}, \"$schema\": \"https://vega.github.io/schema/vega-lite/v4.8.1.json\", \"datasets\": {\"data-c06a9b5a452c4bdf135af9f36ca19325\": [{\"category\": \"A\", \"value\": 800, \"mantissa\": 8.0, \"exponent\": 2, \"multiplier\": 100, \"end\": 30, \"start\": 0, \"middle\": 15.0}, {\"category\": \"B\", \"value\": 100, \"mantissa\": 1.0, \"exponent\": 2, \"multiplier\": 100, \"end\": 60, \"start\": 30, \"middle\": 45.0}, {\"category\": \"C\", \"value\": 4, \"mantissa\": 4.0, \"exponent\": 0, \"multiplier\": 1, \"end\": 70, \"start\": 60, \"middle\": 65.0}, {\"category\": \"D\", \"value\": 20, \"mantissa\": 2.0, \"exponent\": 1, \"multiplier\": 10, \"end\": 90, \"start\": 70, \"middle\": 80.0}, {\"category\": \"E\", \"value\": 400, \"mantissa\": 4.0, \"exponent\": 2, \"multiplier\": 100, \"end\": 120, \"start\": 90, \"middle\": 105.0}, {\"category\": \"F\", \"value\": 2000, \"mantissa\": 2.0, \"exponent\": 3, \"multiplier\": 1000, \"end\": 160, \"start\": 120, \"middle\": 140.0}, {\"category\": \"G\", \"value\": 10, \"mantissa\": 1.0, \"exponent\": 1, \"multiplier\": 10, \"end\": 180, \"start\": 160, \"middle\": 170.0}, {\"category\": \"H\", \"value\": 60, \"mantissa\": 6.0, \"exponent\": 1, \"multiplier\": 10, \"end\": 200, \"start\": 180, \"middle\": 190.0}]}}, {\"mode\": \"vega-lite\"});\n",
       "</script>"
      ],
      "text/plain": [
       "alt.LayerChart(...)"
      ]
     },
     "execution_count": 8,
     "metadata": {},
     "output_type": "execute_result"
    }
   ],
   "source": [
    "wsb_chart(df)"
   ]
  }
 ],
 "metadata": {
  "kernelspec": {
   "display_name": "Python 3",
   "language": "python",
   "name": "python3"
  },
  "language_info": {
   "codemirror_mode": {
    "name": "ipython",
    "version": 3
   },
   "file_extension": ".py",
   "mimetype": "text/x-python",
   "name": "python",
   "nbconvert_exporter": "python",
   "pygments_lexer": "ipython3",
   "version": "3.6.10"
  }
 },
 "nbformat": 4,
 "nbformat_minor": 4
}
