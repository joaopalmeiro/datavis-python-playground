{
 "cells": [
  {
   "cell_type": "markdown",
   "id": "republican-layout",
   "metadata": {},
   "source": [
    "# Setup"
   ]
  },
  {
   "cell_type": "code",
   "execution_count": null,
   "id": "thorough-tribute",
   "metadata": {},
   "outputs": [],
   "source": [
    "%load_ext autoreload\n",
    "%autoreload 2"
   ]
  },
  {
   "cell_type": "code",
   "execution_count": null,
   "id": "funny-explorer",
   "metadata": {},
   "outputs": [],
   "source": [
    "import altair as alt\n",
    "import pandas as pd\n",
    "from sklearn.ensemble import RandomForestClassifier\n",
    "from sklearn.model_selection import train_test_split\n",
    "\n",
    "from charts import score_dist_chart\n",
    "from utils import make_classification_df"
   ]
  },
  {
   "cell_type": "code",
   "execution_count": null,
   "id": "current-overview",
   "metadata": {},
   "outputs": [],
   "source": [
    "alt.renderers.enable(\n",
    "    \"default\", embed_options={\"renderer\": \"svg\", \"scaleFactor\": 5},\n",
    ")"
   ]
  },
  {
   "cell_type": "code",
   "execution_count": null,
   "id": "southern-truck",
   "metadata": {},
   "outputs": [],
   "source": [
    "SEED = 0"
   ]
  },
  {
   "cell_type": "markdown",
   "id": "negative-prospect",
   "metadata": {},
   "source": [
    "# Data"
   ]
  },
  {
   "cell_type": "code",
   "execution_count": null,
   "id": "removable-milwaukee",
   "metadata": {},
   "outputs": [],
   "source": [
    "df_ml = make_classification_df(SEED, n_samples=5000, target_dist=[0.8, 0.2])\n",
    "df_ml.head()"
   ]
  },
  {
   "cell_type": "code",
   "execution_count": null,
   "id": "instructional-preliminary",
   "metadata": {},
   "outputs": [],
   "source": [
    "# Imbalanced\n",
    "df_ml[\"target\"].value_counts(dropna=False)"
   ]
  },
  {
   "cell_type": "code",
   "execution_count": null,
   "id": "respected-chick",
   "metadata": {},
   "outputs": [],
   "source": [
    "X = df_ml.drop(\"target\", axis=1)\n",
    "y = df_ml[\"target\"]\n",
    "\n",
    "X_train, X_test, y_train, y_test = train_test_split(\n",
    "    X, y, random_state=SEED, stratify=y, test_size=0.2\n",
    ")"
   ]
  },
  {
   "cell_type": "code",
   "execution_count": null,
   "id": "amateur-coach",
   "metadata": {},
   "outputs": [],
   "source": [
    "y_train.value_counts(normalize=True, dropna=False)"
   ]
  },
  {
   "cell_type": "code",
   "execution_count": null,
   "id": "imperial-space",
   "metadata": {},
   "outputs": [],
   "source": [
    "y_test.value_counts(normalize=True, dropna=False)"
   ]
  },
  {
   "cell_type": "markdown",
   "id": "comfortable-certification",
   "metadata": {},
   "source": [
    "# Model"
   ]
  },
  {
   "cell_type": "code",
   "execution_count": null,
   "id": "heard-session",
   "metadata": {},
   "outputs": [],
   "source": [
    "clf = RandomForestClassifier(random_state=SEED)\n",
    "clf.fit(X_train, y_train)"
   ]
  },
  {
   "cell_type": "code",
   "execution_count": null,
   "id": "included-duration",
   "metadata": {},
   "outputs": [],
   "source": [
    "y_pred_proba = clf.predict_proba(X_test)\n",
    "y_pred_proba"
   ]
  },
  {
   "cell_type": "code",
   "execution_count": null,
   "id": "rotary-stone",
   "metadata": {},
   "outputs": [],
   "source": [
    "df_scores = pd.DataFrame({\"y_true\": y_test, \"y_score\": y_pred_proba[:, 1]})\n",
    "df_scores.head()"
   ]
  },
  {
   "cell_type": "markdown",
   "id": "embedded-excess",
   "metadata": {},
   "source": [
    "# Score Distribution Chart"
   ]
  },
  {
   "cell_type": "code",
   "execution_count": null,
   "id": "joint-friendship",
   "metadata": {
    "scrolled": true
   },
   "outputs": [],
   "source": [
    "score_dist_chart(df_scores, \"y_score\", \"y_true\", main=1, silhouette=0)"
   ]
  },
  {
   "cell_type": "markdown",
   "id": "hawaiian-bristol",
   "metadata": {},
   "source": [
    "---"
   ]
  }
 ],
 "metadata": {
  "kernelspec": {
   "display_name": "Python 3",
   "language": "python",
   "name": "python3"
  },
  "language_info": {
   "codemirror_mode": {
    "name": "ipython",
    "version": 3
   },
   "file_extension": ".py",
   "mimetype": "text/x-python",
   "name": "python",
   "nbconvert_exporter": "python",
   "pygments_lexer": "ipython3",
   "version": "3.8.7"
  }
 },
 "nbformat": 4,
 "nbformat_minor": 5
}
