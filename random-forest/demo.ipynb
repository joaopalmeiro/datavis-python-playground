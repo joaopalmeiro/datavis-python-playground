{
 "cells": [
  {
   "cell_type": "markdown",
   "id": "affecting-mounting",
   "metadata": {},
   "source": [
    "# Setup"
   ]
  },
  {
   "cell_type": "code",
   "execution_count": null,
   "id": "illegal-exhaust",
   "metadata": {},
   "outputs": [],
   "source": [
    "%load_ext autoreload\n",
    "%autoreload 2"
   ]
  },
  {
   "cell_type": "code",
   "execution_count": null,
   "id": "norman-profit",
   "metadata": {},
   "outputs": [],
   "source": [
    "import matplotlib.pyplot as plt\n",
    "from sklearn import tree\n",
    "from sklearn.ensemble import RandomForestClassifier\n",
    "from sklearn.model_selection import train_test_split\n",
    "\n",
    "from utils import make_classification_df"
   ]
  },
  {
   "cell_type": "code",
   "execution_count": null,
   "id": "referenced-mainland",
   "metadata": {},
   "outputs": [],
   "source": [
    "SEED = 0"
   ]
  },
  {
   "cell_type": "markdown",
   "id": "sitting-house",
   "metadata": {},
   "source": [
    "# Data"
   ]
  },
  {
   "cell_type": "code",
   "execution_count": null,
   "id": "ordered-brazilian",
   "metadata": {},
   "outputs": [],
   "source": [
    "df = make_classification_df(SEED)\n",
    "df.head()"
   ]
  },
  {
   "cell_type": "code",
   "execution_count": null,
   "id": "sudden-essence",
   "metadata": {},
   "outputs": [],
   "source": [
    "X = df.drop(\"target\", axis=1)\n",
    "y = df[\"target\"]\n",
    "\n",
    "X_train, X_test, y_train, y_test = train_test_split(X, y, random_state=SEED)"
   ]
  },
  {
   "cell_type": "code",
   "execution_count": null,
   "id": "important-publicity",
   "metadata": {},
   "outputs": [],
   "source": [
    "X_train.shape"
   ]
  },
  {
   "cell_type": "markdown",
   "id": "administrative-puzzle",
   "metadata": {},
   "source": [
    "# Model"
   ]
  },
  {
   "cell_type": "code",
   "execution_count": null,
   "id": "whole-celebrity",
   "metadata": {},
   "outputs": [],
   "source": [
    "clf = RandomForestClassifier(random_state=SEED, max_depth=5)\n",
    "clf.fit(X_train, y_train)"
   ]
  },
  {
   "cell_type": "code",
   "execution_count": null,
   "id": "suitable-edwards",
   "metadata": {},
   "outputs": [],
   "source": [
    "clf.estimators_[0].tree_.node_count"
   ]
  },
  {
   "cell_type": "code",
   "execution_count": null,
   "id": "generous-simon",
   "metadata": {},
   "outputs": [],
   "source": [
    "clf.estimators_[0].tree_.max_depth"
   ]
  },
  {
   "cell_type": "code",
   "execution_count": null,
   "id": "bigger-pickup",
   "metadata": {},
   "outputs": [],
   "source": [
    "clf.estimators_[0].tree_.feature[0]"
   ]
  },
  {
   "cell_type": "code",
   "execution_count": null,
   "id": "latin-count",
   "metadata": {},
   "outputs": [],
   "source": [
    "clf.estimators_[0].tree_.threshold[0]"
   ]
  },
  {
   "cell_type": "code",
   "execution_count": null,
   "id": "impressed-waste",
   "metadata": {},
   "outputs": [],
   "source": [
    "clf.estimators_[0].tree_.n_node_samples[0]"
   ]
  },
  {
   "cell_type": "code",
   "execution_count": null,
   "id": "african-popularity",
   "metadata": {},
   "outputs": [],
   "source": [
    "clf.estimators_[0].tree_.feature"
   ]
  },
  {
   "cell_type": "code",
   "execution_count": null,
   "id": "sought-valuable",
   "metadata": {},
   "outputs": [],
   "source": [
    "clf.estimators_[0].tree_.feature.shape"
   ]
  },
  {
   "cell_type": "code",
   "execution_count": null,
   "id": "domestic-population",
   "metadata": {},
   "outputs": [],
   "source": [
    "plt.figure(dpi=300)\n",
    "tree.plot_tree(clf.estimators_[0], max_depth=3, fontsize=3)\n",
    "plt.show()"
   ]
  },
  {
   "cell_type": "markdown",
   "id": "imported-change",
   "metadata": {},
   "source": [
    "---"
   ]
  }
 ],
 "metadata": {
  "kernelspec": {
   "display_name": "Python 3",
   "language": "python",
   "name": "python3"
  },
  "language_info": {
   "codemirror_mode": {
    "name": "ipython",
    "version": 3
   },
   "file_extension": ".py",
   "mimetype": "text/x-python",
   "name": "python",
   "nbconvert_exporter": "python",
   "pygments_lexer": "ipython3",
   "version": "3.8.5"
  }
 },
 "nbformat": 4,
 "nbformat_minor": 5
}
