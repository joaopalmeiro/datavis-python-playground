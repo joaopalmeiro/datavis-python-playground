{
 "cells": [
  {
   "cell_type": "markdown",
   "metadata": {},
   "source": [
    "# Manifold\n",
    "\n",
    "**Manifold** is a tool for model-agnostic evaluation with visual support developed by Uber — you can find its repo [here](https://github.com/uber/manifold).\n",
    "\n",
    "In this quick demo, the [California housing dataset](https://scikit-learn.org/stable/modules/generated/sklearn.datasets.fetch_california_housing.html) (regression) and part of the setup available in this [example](https://scikit-learn.org/stable/auto_examples/inspection/plot_partial_dependence.html) on the [scikit-learn](https://scikit-learn.org/stable/index.html) website are used.\n",
    "\n",
    "The main idea for this demo is to test **Manifold**'s [integration with Jupyter Notebook](https://eng.uber.com/manifold-open-source/) and the [Geo Feature View](https://github.com/uber/manifold#geo-feature-view) map."
   ]
  },
  {
   "cell_type": "code",
   "execution_count": null,
   "metadata": {},
   "outputs": [],
   "source": [
    "from sklearn.datasets import fetch_california_housing\n",
    "\n",
    "import pandas as pd\n",
    "import numpy as np\n",
    "\n",
    "# Installation: https://github.com/uber/manifold/tree/master/bindings/jupyter\n",
    "from mlvis import Manifold\n",
    "\n",
    "from sklearn.model_selection import train_test_split\n",
    "from sklearn.preprocessing import QuantileTransformer\n",
    "from sklearn.pipeline import make_pipeline\n",
    "from sklearn.neural_network import MLPRegressor"
   ]
  },
  {
   "cell_type": "code",
   "execution_count": null,
   "metadata": {},
   "outputs": [],
   "source": [
    "california_housing = fetch_california_housing()"
   ]
  },
  {
   "cell_type": "code",
   "execution_count": null,
   "metadata": {},
   "outputs": [],
   "source": [
    "california_housing.data.shape"
   ]
  },
  {
   "cell_type": "code",
   "execution_count": null,
   "metadata": {},
   "outputs": [],
   "source": [
    "california_housing.feature_names"
   ]
  },
  {
   "cell_type": "code",
   "execution_count": null,
   "metadata": {},
   "outputs": [],
   "source": [
    "california_housing.target.shape"
   ]
  },
  {
   "cell_type": "code",
   "execution_count": null,
   "metadata": {
    "scrolled": true
   },
   "outputs": [],
   "source": [
    "california_housing.keys()"
   ]
  },
  {
   "cell_type": "code",
   "execution_count": null,
   "metadata": {},
   "outputs": [],
   "source": [
    "X = pd.DataFrame(california_housing.data, columns=california_housing.feature_names)\n",
    "\n",
    "y = california_housing.target"
   ]
  },
  {
   "cell_type": "code",
   "execution_count": null,
   "metadata": {},
   "outputs": [],
   "source": [
    "# The Latitude feature must be called \"lat\".\n",
    "# The Longitude feature must be called \"lng\".\n",
    "\n",
    "X.rename(columns={'Latitude':'lat', 'Longitude': 'lng'}, inplace=True)"
   ]
  },
  {
   "cell_type": "code",
   "execution_count": null,
   "metadata": {},
   "outputs": [],
   "source": [
    "X_train, X_test, y_train, y_test = train_test_split(X, y, test_size=0.1, random_state=0)"
   ]
  },
  {
   "cell_type": "code",
   "execution_count": null,
   "metadata": {},
   "outputs": [],
   "source": [
    "est = make_pipeline(QuantileTransformer(),\n",
    "                    MLPRegressor(hidden_layer_sizes=(50, 50),\n",
    "                                 learning_rate_init=0.01,\n",
    "                                 early_stopping=True))\n",
    "\n",
    "est.fit(X_train, y_train)\n",
    "\n",
    "print(\"Test R2 score: {:.2f}\".format(est.score(X_test, y_test)))"
   ]
  },
  {
   "cell_type": "code",
   "execution_count": null,
   "metadata": {},
   "outputs": [],
   "source": [
    "yPred = est.predict(X_test)"
   ]
  },
  {
   "cell_type": "code",
   "execution_count": null,
   "metadata": {},
   "outputs": [],
   "source": [
    "# Mapbox access token: https://docs.mapbox.com/help/how-mapbox-works/access-tokens/\n",
    "\n",
    "# It must be replaced with a valid token.\n",
    "TOKEN = \"pk.eyJ1Ijoiam9hb3BhbG1laXJvIiwiYSI6ImNrM2c0dnJqMjBheTczcHBnbzAxODFjejQifQ.2EztIjx7QEHHf65x-X5qQg\""
   ]
  },
  {
   "cell_type": "code",
   "execution_count": null,
   "metadata": {},
   "outputs": [],
   "source": [
    "# Props: https://github.com/uber/manifold/blob/master/bindings/jupyter-modules/jupyter-manifold/src/manifold.js\n",
    "# Classification: https://github.com/uber/manifold/blob/master/bindings/jupyter/notebooks/manifold.ipynb\n",
    "\n",
    "Manifold(props={'data': {\n",
    "    'x': X_test[['lat', 'lng']],\n",
    "    'yPred': [pd.DataFrame(yPred, columns=[\"Target\"])], # Each element in this list contains the predictions for a model.\n",
    "    'yTrue': pd.DataFrame(y_test, columns=[\"Target\"])\n",
    "    },\n",
    "    'mapboxAccessToken': TOKEN,\n",
    "    'width': 1000,\n",
    "    'height': 700\n",
    "})"
   ]
  }
 ],
 "metadata": {
  "kernelspec": {
   "display_name": "Python 3",
   "language": "python",
   "name": "python3"
  },
  "language_info": {
   "codemirror_mode": {
    "name": "ipython",
    "version": 3
   },
   "file_extension": ".py",
   "mimetype": "text/x-python",
   "name": "python",
   "nbconvert_exporter": "python",
   "pygments_lexer": "ipython3",
   "version": "3.7.4"
  }
 },
 "nbformat": 4,
 "nbformat_minor": 4
}
