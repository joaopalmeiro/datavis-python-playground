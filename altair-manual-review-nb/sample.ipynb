{
 "cells": [
  {
   "cell_type": "markdown",
   "id": "4ed018be-7b8e-4dd4-b946-d3ba3ef31c57",
   "metadata": {},
   "source": [
    "# Config"
   ]
  },
  {
   "cell_type": "markdown",
   "id": "1a141845-3bf3-4230-9b44-329f9387037c",
   "metadata": {},
   "source": [
    "## Notebook"
   ]
  },
  {
   "cell_type": "code",
   "execution_count": null,
   "id": "7c0f2159-d695-40f4-a440-5bbe434fa595",
   "metadata": {},
   "outputs": [],
   "source": [
    "%load_ext autoreload\n",
    "%autoreload 2"
   ]
  },
  {
   "cell_type": "markdown",
   "id": "dab9d3af-5dff-4cb2-bb3a-eb920d59d779",
   "metadata": {},
   "source": [
    "This JavaScript snippet allows the checkboxes to be selectable (the selected options are not persisted). "
   ]
  },
  {
   "cell_type": "code",
   "execution_count": null,
   "id": "477a171c-58e6-4044-bc46-2588afa54b91",
   "metadata": {},
   "outputs": [],
   "source": [
    "%%js\n",
    "\n",
    "const query = 'input[type=checkbox]';\n",
    "\n",
    "Array.from(document.querySelectorAll(query)).map((el) =>\n",
    "  el.removeAttribute('disabled')\n",
    ");"
   ]
  },
  {
   "cell_type": "markdown",
   "id": "581e61ed-8755-49bb-815e-deba16b57528",
   "metadata": {},
   "source": [
    "## Imports"
   ]
  },
  {
   "cell_type": "code",
   "execution_count": null,
   "id": "f991d554-363a-43b4-a30c-459464be9817",
   "metadata": {},
   "outputs": [],
   "source": [
    "import pandas as pd\n",
    "\n",
    "from charts import bar_chart"
   ]
  },
  {
   "cell_type": "markdown",
   "id": "d3b3c0d6-7b65-425f-9413-bc93ca69df30",
   "metadata": {},
   "source": [
    "---"
   ]
  },
  {
   "cell_type": "markdown",
   "id": "305e1471-0428-4eea-a43d-aa296c7c3024",
   "metadata": {},
   "source": [
    "# Data"
   ]
  },
  {
   "cell_type": "code",
   "execution_count": null,
   "id": "9ddd83b1-3b5b-407a-a17b-22a32be6a1c1",
   "metadata": {},
   "outputs": [],
   "source": [
    "data = pd.DataFrame(\n",
    "    {\n",
    "        \"a\": [\"A\", \"B\", \"C\", \"D\", \"E\", \"F\", \"G\", \"H\", \"I\"],\n",
    "        \"b\": [28, 55, 43, 91, 81, 53, 19, 87, 52],\n",
    "    }\n",
    ")"
   ]
  },
  {
   "cell_type": "markdown",
   "id": "6657a4c4-279b-46b5-8598-f89518be8c4d",
   "metadata": {},
   "source": [
    "---"
   ]
  },
  {
   "cell_type": "markdown",
   "id": "ba8eab26-b7e2-4c3a-b4e6-5aa1445881f5",
   "metadata": {},
   "source": [
    "# Charts"
   ]
  },
  {
   "cell_type": "markdown",
   "id": "7e23671e-1c40-47dd-a314-3dd1ca654177",
   "metadata": {},
   "source": [
    "## Vertical bar chart"
   ]
  },
  {
   "cell_type": "markdown",
   "id": "b87c6270-a668-40e1-9df9-ff99579444c4",
   "metadata": {},
   "source": [
    "<fieldset class=\"testbox\">\n",
    "  <legend>Tests</legend>\n",
    "   <div>\n",
    "    <input type=\"checkbox\">\n",
    "    <label>Confirm that the bars are vertical</label>\n",
    "  </div>\n",
    "  <div>\n",
    "    <input type=\"checkbox\">\n",
    "    <label>Check the toolip when hovering over the bars</label>\n",
    "  </div>\n",
    "  <div>\n",
    "    <input type=\"checkbox\">\n",
    "    <label>Check the different cursor when hovering over the bars</label>\n",
    "  </div>\n",
    "</fieldset>"
   ]
  },
  {
   "cell_type": "code",
   "execution_count": null,
   "id": "13756f4c-4db2-4a1f-8205-23809f429a5d",
   "metadata": {},
   "outputs": [],
   "source": [
    "bar_chart(data, \"a\", \"b\")"
   ]
  },
  {
   "cell_type": "markdown",
   "id": "404e9e93-0a31-4f9d-8d4d-14edd575315c",
   "metadata": {},
   "source": [
    "## Horizontal bar chart"
   ]
  },
  {
   "cell_type": "markdown",
   "id": "78f2e9ed-0d04-4ed1-aeb3-853504f5f3cc",
   "metadata": {},
   "source": [
    "<fieldset class=\"testbox\">\n",
    "  <legend>Tests</legend>\n",
    "   <div>\n",
    "    <input type=\"checkbox\">\n",
    "    <label>Confirm that the bars are horizontal</label>\n",
    "  </div>\n",
    "  <div>\n",
    "    <input type=\"checkbox\">\n",
    "    <label>Check the toolip when hovering over the bars</label>\n",
    "  </div>\n",
    "  <div>\n",
    "    <input type=\"checkbox\">\n",
    "    <label>Check the different cursor when hovering over the bars</label>\n",
    "  </div>\n",
    "</fieldset>"
   ]
  },
  {
   "cell_type": "code",
   "execution_count": null,
   "id": "633e8fc7-e125-42c7-8e39-edd92538b3e1",
   "metadata": {},
   "outputs": [],
   "source": [
    "bar_chart(data, \"b\", \"a\")"
   ]
  },
  {
   "cell_type": "markdown",
   "id": "1022b71f-f704-406d-b96a-bdb68ccfe87f",
   "metadata": {},
   "source": [
    "---"
   ]
  }
 ],
 "metadata": {
  "kernelspec": {
   "display_name": "Python 3",
   "language": "python",
   "name": "python3"
  },
  "language_info": {
   "codemirror_mode": {
    "name": "ipython",
    "version": 3
   },
   "file_extension": ".py",
   "mimetype": "text/x-python",
   "name": "python",
   "nbconvert_exporter": "python",
   "pygments_lexer": "ipython3",
   "version": "3.8.7"
  },
  "toc-autonumbering": true,
  "toc-showcode": false,
  "toc-showmarkdowntxt": false,
  "toc-showtags": false
 },
 "nbformat": 4,
 "nbformat_minor": 5
}
