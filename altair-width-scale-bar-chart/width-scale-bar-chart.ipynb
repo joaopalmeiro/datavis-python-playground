{
 "cells": [
  {
   "cell_type": "code",
   "execution_count": null,
   "metadata": {},
   "outputs": [],
   "source": [
    "import pandas as pd\n",
    "import altair as alt\n",
    "from decimal import Decimal"
   ]
  },
  {
   "cell_type": "code",
   "execution_count": null,
   "metadata": {},
   "outputs": [],
   "source": [
    "alt.__version__"
   ]
  },
  {
   "cell_type": "code",
   "execution_count": null,
   "metadata": {},
   "outputs": [],
   "source": [
    "data = dict(\n",
    "    category=[\"A\", \"B\", \"C\", \"D\", \"E\", \"F\", \"G\", \"H\"], \n",
    "    value=[800, 100, 4, 20, 400, 2000, 10, 60] \n",
    ")"
   ]
  },
  {
   "cell_type": "code",
   "execution_count": null,
   "metadata": {},
   "outputs": [],
   "source": [
    "df = pd.DataFrame(data)"
   ]
  },
  {
   "cell_type": "code",
   "execution_count": null,
   "metadata": {},
   "outputs": [],
   "source": [
    "df.head()"
   ]
  },
  {
   "cell_type": "code",
   "execution_count": null,
   "metadata": {},
   "outputs": [],
   "source": [
    "def numeric_to_mantissa_and_exponent(value):\n",
    "    exponent = int(len(str(abs(value)).split(\".\")[0]) - 1)\n",
    "    mantissa = float(value * 10 ** -exponent)\n",
    "    multiplier = int(10 ** exponent)\n",
    "    \n",
    "    return mantissa, exponent, multiplier"
   ]
  },
  {
   "cell_type": "code",
   "execution_count": null,
   "metadata": {},
   "outputs": [],
   "source": [
    "df[\"mantissa\"], df[\"exponent\"], df[\"multiplier\"] = zip(*df[\"value\"].map(numeric_to_mantissa_and_exponent))"
   ]
  },
  {
   "cell_type": "code",
   "execution_count": null,
   "metadata": {
    "scrolled": true
   },
   "outputs": [],
   "source": [
    "df"
   ]
  },
  {
   "cell_type": "code",
   "execution_count": null,
   "metadata": {},
   "outputs": [],
   "source": [
    "def end_x(value):\n",
    "    return 10 * (value + 1)"
   ]
  },
  {
   "cell_type": "code",
   "execution_count": null,
   "metadata": {},
   "outputs": [],
   "source": [
    "df[\"end\"] = df[\"exponent\"].map(end_x)"
   ]
  },
  {
   "cell_type": "code",
   "execution_count": null,
   "metadata": {},
   "outputs": [],
   "source": [
    "df"
   ]
  },
  {
   "cell_type": "code",
   "execution_count": null,
   "metadata": {},
   "outputs": [],
   "source": [
    "df[\"end\"] = df['end'].cumsum() "
   ]
  },
  {
   "cell_type": "code",
   "execution_count": null,
   "metadata": {},
   "outputs": [],
   "source": [
    "df"
   ]
  },
  {
   "cell_type": "code",
   "execution_count": null,
   "metadata": {},
   "outputs": [],
   "source": [
    "df[\"start\"] = df[\"end\"].shift(fill_value=0)"
   ]
  },
  {
   "cell_type": "code",
   "execution_count": null,
   "metadata": {},
   "outputs": [],
   "source": [
    "df"
   ]
  },
  {
   "cell_type": "code",
   "execution_count": null,
   "metadata": {},
   "outputs": [],
   "source": [
    "df[\"middle\"] = ((df[\"end\"] - df[\"start\"]) / 2) + df[\"start\"]"
   ]
  },
  {
   "cell_type": "code",
   "execution_count": null,
   "metadata": {},
   "outputs": [],
   "source": [
    "df"
   ]
  },
  {
   "cell_type": "code",
   "execution_count": null,
   "metadata": {},
   "outputs": [],
   "source": [
    "def wsb_chart(data, w=600, h=300):\n",
    "    base = alt.Chart(data, width=w, height=h)\n",
    "    \n",
    "    bar = base.mark_rect().encode(\n",
    "        x=alt.X('start:Q', axis=alt.Axis(labels=False, title=\"Category\", grid=False, values=data[\"middle\"].to_list())),\n",
    "        x2=alt.X2(\"end:Q\"),\n",
    "        y=alt.Y('mantissa:Q', axis=alt.Axis(title=\"Mantissa\"), scale=alt.Scale(domain=[0, 10])),\n",
    "        color=alt.Color(\"multiplier:O\", title=\"Magnitude Multiplier\", legend=alt.Legend(labelExpr=\"'× ' + datum.value\"), scale=alt.Scale(scheme=\"reds\")),\n",
    "    \n",
    "    )\n",
    "    \n",
    "    # default `fontSize` = 11\n",
    "    # default `tickSize` = 5\n",
    "    # default `labelPadding` = 2\n",
    "    # default `translate` = 0.5\n",
    "    text = base.mark_text(align='center', dx=0.5, baseline='middle', fontSize=11).encode(\n",
    "        x=alt.X('middle:Q'),\n",
    "        y=alt.value(h + (11/2) + 5 + 2 + 0.5),\n",
    "        text=alt.Text(\"category:N\")\n",
    "    )\n",
    "    \n",
    "    return bar + text"
   ]
  },
  {
   "cell_type": "code",
   "execution_count": null,
   "metadata": {
    "scrolled": false
   },
   "outputs": [],
   "source": [
    "wsb_chart(df)"
   ]
  }
 ],
 "metadata": {
  "kernelspec": {
   "display_name": "Python 3",
   "language": "python",
   "name": "python3"
  },
  "language_info": {
   "codemirror_mode": {
    "name": "ipython",
    "version": 3
   },
   "file_extension": ".py",
   "mimetype": "text/x-python",
   "name": "python",
   "nbconvert_exporter": "python",
   "pygments_lexer": "ipython3",
   "version": "3.6.10"
  }
 },
 "nbformat": 4,
 "nbformat_minor": 4
}
