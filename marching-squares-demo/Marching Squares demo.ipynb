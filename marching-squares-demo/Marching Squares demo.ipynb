{
 "cells": [
  {
   "cell_type": "markdown",
   "metadata": {},
   "source": [
    "# Marching Squares\n",
    "\n",
    "Marching Squares is a computer graphics algorithm that computes contours for a 2D scalar field, that is, a rectangular array of individual numerical values (“Marching squares”, 2019). It can be used to generate the contours of a kernel density map (Lu et al., 2020).\n",
    "\n",
    "## Material\n",
    "\n",
    "- [Wikipedia page](https://en.wikipedia.org/wiki/Marching_squares) (“Marching squares”, 2019).\n",
    "- [\"Isosurfaces: Geometry, Topology, and Algorithms\" book](http://web.cse.ohio-state.edu/~wenger.4/publications/) (Wenger, 2013). \n",
    "- [*scikit-image* (or *skimage*) library](https://scikit-image.org/) (van der Walt et al., 2014).\n",
    "- [`skimage.measure.find_contours` function](https://scikit-image.org/docs/stable/api/skimage.measure.html#find-contours) (van der Walt et al., 2014).\n",
    "\n",
    "## References\n",
    "\n",
    "Wikipedia contributors. (2019, December 30). \n",
    "Marching squares. \n",
    "In *Wikipedia, The Free Encyclopedia*.\n",
    "Retrieved 12:13, February 26, 2020, from https://en.wikipedia.org/w/index.php?title=Marching_squares&oldid=933213691\n",
    "\n",
    "Lu, M., Wang, S., Lanir, J., Fish, N., Yue, Y., Cohen-Or, D., & Huang, H. (2020). Winglets: Visualizing Association with Uncertainty in Multi-class Scatterplots. *IEEE Transactions on Visualization and Computer Graphics, 26*(1), 770–779. \n",
    "https://doi.org/10.1109/TVCG.2019.2934811\n",
    "\n",
    "Wenger, R. (2013).\n",
    "*Isosurfaces*. \n",
    "New York: A K Peters/CRC Press.\n",
    "https://doi.org/10.1201/b15025\n",
    "\n",
    "van der Walt, S., Schönberger, J.L., Nunez-Iglesias, J., Boulogne, F., Warner, J.D., Yager, N., Gouillart, E., Yu, T., & scikit-image contributors. (2014).\n",
    "scikit-image: image processing in Python. \n",
    "*PeerJ, 2*, e453.\n",
    "https://doi.org/10.7717/peerj.453"
   ]
  },
  {
   "cell_type": "code",
   "execution_count": null,
   "metadata": {},
   "outputs": [],
   "source": [
    "import numpy as np\n",
    "from skimage import measure\n",
    "import matplotlib.pyplot as plt"
   ]
  },
  {
   "cell_type": "code",
   "execution_count": null,
   "metadata": {},
   "outputs": [],
   "source": [
    "print(f\"NumPy: {np.__version__}\")"
   ]
  },
  {
   "cell_type": "code",
   "execution_count": null,
   "metadata": {},
   "outputs": [],
   "source": [
    "# Generate dummy data (an image).\n",
    "\n",
    "a = np.zeros((10, 10))\n",
    "\n",
    "a[1, 8] = 1\n",
    "\n",
    "for r in range(1,5):\n",
    "    for c in range(1,5):\n",
    "        if (r != 4 or c != 4):\n",
    "            a[r, c] = 1\n",
    "            a[r + 4, c + 4] = 1\n",
    "\n",
    "# L-R = same y, different x.\n",
    "# T-B = same x, different y.\n",
    "a"
   ]
  },
  {
   "cell_type": "code",
   "execution_count": null,
   "metadata": {},
   "outputs": [],
   "source": [
    "# The origin in the graphs below is in the bottom-left corner,\n",
    "# instead of the top-left corner as usual for images:\n",
    "# https://matplotlib.org/api/_as_gen/matplotlib.pyplot.imshow.html\n",
    "\n",
    "# This option for the origin was made so that the axes are ordered\n",
    "# in the same way as is usual for a scatterplot, for example.\n",
    "\n",
    "np.flip(a, axis=0) # Flip the image vertically."
   ]
  },
  {
   "cell_type": "code",
   "execution_count": null,
   "metadata": {},
   "outputs": [],
   "source": [
    "# Find contours at a constant value of 0.50.\n",
    "\n",
    "THRESHOLD = 0.50 # a.k.a. isovalue\n",
    "contours = measure.find_contours(a, THRESHOLD)\n",
    "\n",
    "# contours"
   ]
  },
  {
   "cell_type": "code",
   "execution_count": null,
   "metadata": {},
   "outputs": [],
   "source": [
    "x = [value for value in range(0, len(a))] * len(a)\n",
    "\n",
    "# x"
   ]
  },
  {
   "cell_type": "code",
   "execution_count": null,
   "metadata": {},
   "outputs": [],
   "source": [
    "y = [item for sublist in [[value] * len(a) for value in range(0, len(a))] for item in sublist]\n",
    "\n",
    "# y"
   ]
  },
  {
   "cell_type": "code",
   "execution_count": null,
   "metadata": {},
   "outputs": [],
   "source": [
    "a_flat = a.flatten()\n",
    "\n",
    "# a_flat"
   ]
  },
  {
   "cell_type": "code",
   "execution_count": null,
   "metadata": {},
   "outputs": [],
   "source": [
    "clrs = ['green' if (x <= THRESHOLD) else 'none' for x in a_flat]\n",
    "\n",
    "# clrs"
   ]
  },
  {
   "cell_type": "code",
   "execution_count": null,
   "metadata": {},
   "outputs": [],
   "source": [
    "# Display the image.\n",
    "\n",
    "fig, ax = plt.subplots(figsize=(10, 10))\n",
    "ax.imshow(a, cmap=plt.cm.gray_r, origin=\"lower\")\n",
    "plt.show()"
   ]
  },
  {
   "cell_type": "code",
   "execution_count": null,
   "metadata": {},
   "outputs": [],
   "source": [
    "# Display the image and the binary index.\n",
    "\n",
    "# The filled points are below the threshold.\n",
    "# The unfilled points are above the threshold.\n",
    "\n",
    "fig, ax = plt.subplots(figsize=(10, 10))\n",
    "ax.imshow(a, cmap=plt.cm.gray_r, origin=\"lower\")\n",
    "\n",
    "plt.scatter(x, y, c=clrs, edgecolors=\"green\")\n",
    "\n",
    "plt.show()"
   ]
  },
  {
   "cell_type": "code",
   "execution_count": null,
   "metadata": {},
   "outputs": [],
   "source": [
    "# Display the image, the binary index, and the contours.\n",
    "\n",
    "# Every 2x2 block of pixels (or dots) forms a cell. \n",
    "# Marching Squares generates a contour line for each cell \n",
    "# according to the following lookup table:\n",
    "# https://en.wikipedia.org/wiki/Marching_squares#Basic_algorithm\n",
    "\n",
    "fig, ax = plt.subplots(figsize=(10, 10))\n",
    "ax.imshow(a, cmap=plt.cm.gray_r, origin=\"lower\")\n",
    "\n",
    "plt.scatter(x, y, c=clrs, edgecolors=\"green\")\n",
    "\n",
    "for n, contour in enumerate(contours):\n",
    "    print(f\"Coordinates (contour {n + 1})\\nx: {contour[:, 1]}\\ny: {contour[:, 0]}\\n\")\n",
    "    ax.plot(contour[:, 1], contour[:, 0], linewidth=2, zorder=1)\n",
    "    \n",
    "plt.show()"
   ]
  },
  {
   "cell_type": "markdown",
   "metadata": {},
   "source": [
    "## Linear Interpolation\n",
    "\n",
    "Considering, for example, the cell in the bottom-left corner, the exact position of the contour line (more specifically, the beginning and the end of the contour line) along the edges of this cell was computed with the following (abbreviated) algorithm (Wenger, 2013):\n",
    "\n",
    "**Input**: \n",
    "- Two points or vertices of a cell (*p* and *q*).\n",
    "- The scalar values associated with the aforementioned points according to the dataset or image (*sp* and *sq*).\n",
    "- The threshold or isovalue (*t*).\n",
    "- **Note**: The coordinates of the points can be checked on the graph axes.\n",
    "    \n",
    "**Output**:\n",
    "- A point lying on [*p*, *q*] (*r*).\n",
    "- **Note**: This point will correspond to the beginning or end of a contour line. \n",
    "\n",
    "**Linear interpolation algorithm**:\n",
    "\n",
    "```python\n",
    "def linear_interpolation(p, sp, q, sq, t):\n",
    "    alpha = (t - sp) / (sq - sp)\n",
    "    dimensions = len(p)\n",
    "    \n",
    "    r = np.zeros(dimensions)\n",
    "    \n",
    "    for d in range(dimensions):\n",
    "        r[d] = (1 - alpha) * p[d] + alpha * q[d]\n",
    "        \n",
    "    return(r)\n",
    "```"
   ]
  },
  {
   "cell_type": "code",
   "execution_count": null,
   "metadata": {},
   "outputs": [],
   "source": [
    "def linear_interpolation(p, sp, q, sq, t, verbose=True):\n",
    "    \n",
    "    assert (sp != sq), \"This algorithm requires sp != sq.\"\n",
    "    assert ((t >= sp and t <= sq) or (t <= sp and t >= sq)), \"This algorithm requires sp <= t <= sq or sp >= t >= sq.\"\n",
    "    assert (len(p) == len(q)), \"Both points must have the same dimension.\"\n",
    "    \n",
    "    alpha = (t - sp) / (sq - sp)\n",
    "    dimensions = len(p)\n",
    "    \n",
    "    r = np.zeros(dimensions)\n",
    "    \n",
    "    for d in range(dimensions):\n",
    "        r[d] = (1 - alpha) * p[d] + alpha * q[d]\n",
    "    \n",
    "    if(verbose):\n",
    "        print(f\"Coordinates:\\nx = {r[0]}\\ny = {r[1]}\")\n",
    "    \n",
    "    return(r)"
   ]
  },
  {
   "cell_type": "code",
   "execution_count": null,
   "metadata": {},
   "outputs": [],
   "source": [
    "# Considering, for example, the points or vertices (0, 1) and (1, 1):\n",
    "\n",
    "p =  np.array([0, 1])\n",
    "q =  np.array([1, 1])\n",
    "\n",
    "sp = a[tuple(p)]\n",
    "sq = a[tuple(q)]\n",
    "\n",
    "print(f\"p: {p}\\nq: {q}\\nsp: {sp}\\nsq: {sq}\")"
   ]
  },
  {
   "cell_type": "code",
   "execution_count": null,
   "metadata": {},
   "outputs": [],
   "source": [
    "r = linear_interpolation(p, sp, q, sq, THRESHOLD)"
   ]
  },
  {
   "cell_type": "code",
   "execution_count": null,
   "metadata": {},
   "outputs": [],
   "source": [
    "# Display the image, the binary index, the contours,\n",
    "# and a linearly interpolated point (red dot).\n",
    "\n",
    "fig, ax = plt.subplots(figsize=(10, 10))\n",
    "ax.imshow(a, cmap=plt.cm.gray_r, origin=\"lower\")\n",
    "\n",
    "plt.scatter(x, y, c=clrs, edgecolors=\"green\")\n",
    "\n",
    "for n, contour in enumerate(contours):\n",
    "    print(f\"Coordinates (contour {n + 1})\\nx: {contour[:, 1]}\\ny: {contour[:, 0]}\\n\")\n",
    "    ax.plot(contour[:, 1], contour[:, 0], linewidth=2, zorder=1)\n",
    "    \n",
    "plt.scatter(r[0], r[1], c=\"red\", edgecolors=\"red\", zorder=2)\n",
    "\n",
    "plt.show()"
   ]
  },
  {
   "cell_type": "code",
   "execution_count": null,
   "metadata": {},
   "outputs": [],
   "source": [
    "# The choice of the threshold or isovalue is important. \n",
    "# This value affects linear interpolation and can yield less accurate contours.\n",
    "\n",
    "# Check the warning in the notes:\n",
    "# https://scikit-image.org/docs/dev/api/skimage.measure.html#find-contours\n",
    "\n",
    "THRESHOLD_2 = 0.25\n",
    "contours_2 = measure.find_contours(a, THRESHOLD_2)\n",
    "clrs_2 = ['green' if (x <= THRESHOLD_2) else 'none' for x in a_flat ]"
   ]
  },
  {
   "cell_type": "code",
   "execution_count": null,
   "metadata": {},
   "outputs": [],
   "source": [
    "# The same coordinates and values as in the previous example, \n",
    "# but now with a different (lower) threshold.\n",
    "\n",
    "r_2 = linear_interpolation(p, sp, q, sq, THRESHOLD_2)"
   ]
  },
  {
   "cell_type": "code",
   "execution_count": null,
   "metadata": {},
   "outputs": [],
   "source": [
    "# Display the image, the binary index, the contours,\n",
    "# the previous linearly interpolated point (gray dot),\n",
    "# and a new linearly interpolated point (red dot).\n",
    "\n",
    "fig, ax = plt.subplots(figsize=(10, 10))\n",
    "ax.imshow(a, cmap=plt.cm.gray_r, origin=\"lower\")\n",
    "\n",
    "plt.scatter(x, y, c=clrs_2, edgecolors=\"green\")\n",
    "\n",
    "for n, contour in enumerate(contours_2):\n",
    "    print(f\"Coordinates (contour {n + 1})\\nx: {contour[:, 1]}\\ny: {contour[:, 0]}\\n\")\n",
    "    ax.plot(contour[:, 1], contour[:, 0], linewidth=2, zorder=1)\n",
    "    \n",
    "plt.scatter([r[0], r_2[0]], [r[1], r_2[1]], c=[\"silver\", \"red\"], edgecolors=[\"silver\", \"red\"], zorder=2)\n",
    "\n",
    "plt.show()"
   ]
  }
 ],
 "metadata": {
  "kernelspec": {
   "display_name": "Python 3",
   "language": "python",
   "name": "python3"
  },
  "language_info": {
   "codemirror_mode": {
    "name": "ipython",
    "version": 3
   },
   "file_extension": ".py",
   "mimetype": "text/x-python",
   "name": "python",
   "nbconvert_exporter": "python",
   "pygments_lexer": "ipython3",
   "version": "3.7.4"
  }
 },
 "nbformat": 4,
 "nbformat_minor": 4
}
