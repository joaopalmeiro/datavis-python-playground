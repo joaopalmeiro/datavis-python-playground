{
 "cells": [
  {
   "cell_type": "code",
   "execution_count": null,
   "metadata": {},
   "outputs": [],
   "source": [
    "%load_ext autoreload\n",
    "%autoreload 2"
   ]
  },
  {
   "cell_type": "code",
   "execution_count": null,
   "metadata": {},
   "outputs": [],
   "source": [
    "import altair as alt\n",
    "import pandas as pd\n",
    "from vega_datasets import data\n",
    "\n",
    "from shapes import square, up_pointing_triangle"
   ]
  },
  {
   "cell_type": "markdown",
   "metadata": {},
   "source": [
    "**Note**: For correct sizing, custom SVG Path strings should be defined within a square bounding box with coordinates ranging from -1 to 1 along both the x and y dimensions ([source](https://altair-viz.github.io/user_guide/marks.html#mark-properties)).\n",
    "\n",
    "**Tool**: Yann Armelin's [SvgPathEditor](https://yqnn.github.io/svg-path-editor/)."
   ]
  },
  {
   "cell_type": "markdown",
   "metadata": {},
   "source": [
    "## Dataset"
   ]
  },
  {
   "cell_type": "code",
   "execution_count": null,
   "metadata": {},
   "outputs": [],
   "source": [
    "source = data.cars.url\n",
    "source"
   ]
  },
  {
   "cell_type": "markdown",
   "metadata": {},
   "source": [
    "## Square"
   ]
  },
  {
   "cell_type": "code",
   "execution_count": null,
   "metadata": {},
   "outputs": [],
   "source": [
    "# Original\n",
    "\n",
    "alt.Chart(source).mark_square(size=60, filled=False).encode(\n",
    "    x=\"Horsepower:Q\", y=\"Miles_per_Gallon:Q\", color=\"Origin:N\"\n",
    ")"
   ]
  },
  {
   "cell_type": "code",
   "execution_count": null,
   "metadata": {},
   "outputs": [],
   "source": [
    "square.Path"
   ]
  },
  {
   "cell_type": "code",
   "execution_count": null,
   "metadata": {},
   "outputs": [],
   "source": [
    "alt.Chart(source).mark_point(size=60).encode(\n",
    "    x=\"Horsepower:Q\",\n",
    "    y=\"Miles_per_Gallon:Q\",\n",
    "    color=\"Origin:N\",\n",
    "    shape=alt.ShapeValue(square.Path),\n",
    ")"
   ]
  },
  {
   "cell_type": "markdown",
   "metadata": {},
   "source": [
    "## Up-Pointing Triangle"
   ]
  },
  {
   "cell_type": "code",
   "execution_count": null,
   "metadata": {},
   "outputs": [],
   "source": [
    "# Original\n",
    "\n",
    "alt.Chart(source).mark_point(size=60, shape=\"triangle-up\").encode(\n",
    "    x=\"Horsepower:Q\", y=\"Miles_per_Gallon:Q\", color=\"Origin:N\"\n",
    ")"
   ]
  },
  {
   "cell_type": "code",
   "execution_count": null,
   "metadata": {},
   "outputs": [],
   "source": [
    "up_pointing_triangle.Path"
   ]
  },
  {
   "cell_type": "code",
   "execution_count": null,
   "metadata": {},
   "outputs": [],
   "source": [
    "alt.Chart(source).mark_point(size=60).encode(\n",
    "    x=\"Horsepower:Q\",\n",
    "    y=\"Miles_per_Gallon:Q\",\n",
    "    color=\"Origin:N\",\n",
    "    shape=alt.ShapeValue(up_pointing_triangle.Path),\n",
    ")"
   ]
  },
  {
   "cell_type": "code",
   "execution_count": null,
   "metadata": {},
   "outputs": [],
   "source": []
  }
 ],
 "metadata": {
  "kernelspec": {
   "display_name": "Python 3",
   "language": "python",
   "name": "python3"
  },
  "language_info": {
   "codemirror_mode": {
    "name": "ipython",
    "version": 3
   },
   "file_extension": ".py",
   "mimetype": "text/x-python",
   "name": "python",
   "nbconvert_exporter": "python",
   "pygments_lexer": "ipython3",
   "version": "3.6.10"
  }
 },
 "nbformat": 4,
 "nbformat_minor": 4
}
