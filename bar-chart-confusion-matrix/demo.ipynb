{
 "cells": [
  {
   "cell_type": "markdown",
   "id": "worthy-armor",
   "metadata": {},
   "source": [
    "# Setup"
   ]
  },
  {
   "cell_type": "code",
   "execution_count": null,
   "id": "native-conflict",
   "metadata": {},
   "outputs": [],
   "source": [
    "%load_ext autoreload\n",
    "%autoreload 2"
   ]
  },
  {
   "cell_type": "code",
   "execution_count": null,
   "id": "assumed-pontiac",
   "metadata": {},
   "outputs": [],
   "source": [
    "import pandas as pd\n",
    "from sklearn.ensemble import RandomForestClassifier\n",
    "from sklearn.model_selection import train_test_split\n",
    "\n",
    "from charts import confusion_matrix\n",
    "from utils import make_classification_df"
   ]
  },
  {
   "cell_type": "code",
   "execution_count": null,
   "id": "verified-salon",
   "metadata": {},
   "outputs": [],
   "source": [
    "SEED = 0"
   ]
  },
  {
   "cell_type": "markdown",
   "id": "minus-species",
   "metadata": {},
   "source": [
    "# Data"
   ]
  },
  {
   "cell_type": "code",
   "execution_count": null,
   "id": "built-latvia",
   "metadata": {},
   "outputs": [],
   "source": [
    "df_ml = make_classification_df(SEED, target_dist=[0.9, 0.1])\n",
    "df_ml.head()"
   ]
  },
  {
   "cell_type": "code",
   "execution_count": null,
   "id": "blind-massage",
   "metadata": {},
   "outputs": [],
   "source": [
    "# Imbalanced\n",
    "df_ml[\"target\"].value_counts(dropna=False)"
   ]
  },
  {
   "cell_type": "code",
   "execution_count": null,
   "id": "freelance-capital",
   "metadata": {},
   "outputs": [],
   "source": [
    "X = df_ml.drop(\"target\", axis=1)\n",
    "y = df_ml[\"target\"]\n",
    "\n",
    "X_train, X_test, y_train, y_test = train_test_split(\n",
    "    X, y, random_state=SEED, stratify=y, test_size=0.2\n",
    ")"
   ]
  },
  {
   "cell_type": "code",
   "execution_count": null,
   "id": "literary-color",
   "metadata": {},
   "outputs": [],
   "source": [
    "y_train.value_counts(normalize=True, dropna=False)"
   ]
  },
  {
   "cell_type": "code",
   "execution_count": null,
   "id": "exclusive-history",
   "metadata": {},
   "outputs": [],
   "source": [
    "y_test.value_counts(normalize=True, dropna=False)"
   ]
  },
  {
   "cell_type": "markdown",
   "id": "random-morocco",
   "metadata": {},
   "source": [
    "# Model"
   ]
  },
  {
   "cell_type": "code",
   "execution_count": null,
   "id": "synthetic-stations",
   "metadata": {},
   "outputs": [],
   "source": [
    "clf = RandomForestClassifier(random_state=SEED)\n",
    "clf.fit(X_train, y_train)"
   ]
  },
  {
   "cell_type": "code",
   "execution_count": null,
   "id": "verified-consumption",
   "metadata": {},
   "outputs": [],
   "source": [
    "y_pred_proba = clf.predict_proba(X_test)\n",
    "y_pred_proba"
   ]
  },
  {
   "cell_type": "code",
   "execution_count": null,
   "id": "metallic-stable",
   "metadata": {},
   "outputs": [],
   "source": [
    "df_scores = pd.DataFrame({\"y_true\": y_test, \"y_score\": y_pred_proba[:, 1]})\n",
    "df_scores.head()"
   ]
  },
  {
   "cell_type": "markdown",
   "id": "olive-cream",
   "metadata": {},
   "source": [
    "# Confusion Matrix"
   ]
  },
  {
   "cell_type": "code",
   "execution_count": null,
   "id": "frozen-horror",
   "metadata": {},
   "outputs": [],
   "source": [
    "confusion_matrix(df_scores, \"y_score\", \"y_true\", 0.5)"
   ]
  },
  {
   "cell_type": "markdown",
   "id": "alpha-baker",
   "metadata": {},
   "source": [
    "---"
   ]
  }
 ],
 "metadata": {
  "kernelspec": {
   "display_name": "Python 3",
   "language": "python",
   "name": "python3"
  },
  "language_info": {
   "codemirror_mode": {
    "name": "ipython",
    "version": 3
   },
   "file_extension": ".py",
   "mimetype": "text/x-python",
   "name": "python",
   "nbconvert_exporter": "python",
   "pygments_lexer": "ipython3",
   "version": "3.8.7"
  }
 },
 "nbformat": 4,
 "nbformat_minor": 5
}
