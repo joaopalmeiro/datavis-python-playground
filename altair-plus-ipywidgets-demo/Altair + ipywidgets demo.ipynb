{
 "cells": [
  {
   "cell_type": "code",
   "execution_count": null,
   "metadata": {},
   "outputs": [],
   "source": [
    "import altair as alt\n",
    "from vega_datasets import data\n",
    "from ipywidgets import interact"
   ]
  },
  {
   "cell_type": "code",
   "execution_count": null,
   "metadata": {},
   "outputs": [],
   "source": [
    "source = data.iowa_electricity()"
   ]
  },
  {
   "cell_type": "code",
   "execution_count": null,
   "metadata": {},
   "outputs": [],
   "source": [
    "def bar_chart_wrapper(data, source):\n",
    "    \n",
    "    @interact(Source=source)\n",
    "    def bar_chart(Source):\n",
    "        chart = alt.Chart(data[data['source'] == Source]).mark_bar().encode(\n",
    "            x='year:O',\n",
    "            y=alt.Y('net_generation:Q', stack=None),\n",
    "            color=alt.Color('source', legend=None)\n",
    "        ).properties(\n",
    "            title = f'{Source}'\n",
    "        )\n",
    "\n",
    "        return chart"
   ]
  },
  {
   "cell_type": "code",
   "execution_count": null,
   "metadata": {},
   "outputs": [],
   "source": [
    "bar_chart_wrapper(source, ['Fossil Fuels', 'Nuclear Energy', 'Renewables'])"
   ]
  }
 ],
 "metadata": {
  "kernelspec": {
   "display_name": "Python 3",
   "language": "python",
   "name": "python3"
  },
  "language_info": {
   "codemirror_mode": {
    "name": "ipython",
    "version": 3
   },
   "file_extension": ".py",
   "mimetype": "text/x-python",
   "name": "python",
   "nbconvert_exporter": "python",
   "pygments_lexer": "ipython3",
   "version": "3.7.6"
  }
 },
 "nbformat": 4,
 "nbformat_minor": 4
}
