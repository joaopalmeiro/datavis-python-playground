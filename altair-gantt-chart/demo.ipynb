{
 "cells": [
  {
   "cell_type": "markdown",
   "id": "elegant-texture",
   "metadata": {},
   "source": [
    "# Config"
   ]
  },
  {
   "cell_type": "code",
   "execution_count": null,
   "id": "dying-apollo",
   "metadata": {},
   "outputs": [],
   "source": [
    "%load_ext autoreload\n",
    "%autoreload 2"
   ]
  },
  {
   "cell_type": "code",
   "execution_count": null,
   "id": "protecting-license",
   "metadata": {},
   "outputs": [],
   "source": [
    "import pandas as pd\n",
    "\n",
    "from charts import gantt_chart"
   ]
  },
  {
   "cell_type": "markdown",
   "id": "timely-manitoba",
   "metadata": {},
   "source": [
    "# Data"
   ]
  },
  {
   "cell_type": "code",
   "execution_count": null,
   "id": "fancy-backup",
   "metadata": {},
   "outputs": [],
   "source": [
    "milestones = pd.DataFrame(\n",
    "    [\n",
    "        {\"milestone\": \"First\", \"start\": \"2021-01-01\", \"end\": \"2021-01-31\"},\n",
    "        {\"milestone\": \"Second\", \"start\": \"2021-02-01\", \"end\": \"2021-02-28\"},\n",
    "        {\"milestone\": \"Third\", \"start\": \"2021-03-01\", \"end\": \"2021-03-31\"},\n",
    "        {\"milestone\": \"Fourth\", \"start\": \"2021-04-01\", \"end\": \"2021-04-30\"},\n",
    "        {\"milestone\": \"Fifth\", \"start\": \"2021-05-01\", \"end\": \"2021-05-31\"},\n",
    "        {\"milestone\": \"Sixth\", \"start\": \"2021-06-01\", \"end\": \"2021-06-30\"},\n",
    "    ]\n",
    ")\n",
    "\n",
    "marker = pd.DataFrame([{\"message\": \"Marker\", \"date\": \"2021-05-15\"}])"
   ]
  },
  {
   "cell_type": "code",
   "execution_count": null,
   "id": "adjusted-crack",
   "metadata": {},
   "outputs": [],
   "source": [
    "milestones"
   ]
  },
  {
   "cell_type": "markdown",
   "id": "interested-disclaimer",
   "metadata": {},
   "source": [
    "# Charts"
   ]
  },
  {
   "cell_type": "code",
   "execution_count": null,
   "id": "pressing-contamination",
   "metadata": {},
   "outputs": [],
   "source": [
    "gantt_chart(milestones, \"start\", \"end\", \"milestone\")"
   ]
  },
  {
   "cell_type": "code",
   "execution_count": null,
   "id": "assigned-contrary",
   "metadata": {},
   "outputs": [],
   "source": [
    "gantt_chart(milestones, \"start\", \"end\", \"milestone\", marker=marker)"
   ]
  },
  {
   "cell_type": "markdown",
   "id": "combined-arena",
   "metadata": {},
   "source": [
    "---"
   ]
  }
 ],
 "metadata": {
  "kernelspec": {
   "display_name": "Python 3",
   "language": "python",
   "name": "python3"
  },
  "language_info": {
   "codemirror_mode": {
    "name": "ipython",
    "version": 3
   },
   "file_extension": ".py",
   "mimetype": "text/x-python",
   "name": "python",
   "nbconvert_exporter": "python",
   "pygments_lexer": "ipython3",
   "version": "3.6.13"
  }
 },
 "nbformat": 4,
 "nbformat_minor": 5
}
